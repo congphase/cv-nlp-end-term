{
  "nbformat": 4,
  "nbformat_minor": 0,
  "metadata": {
    "colab": {
      "name": "preprocessing_dataset.ipynb",
      "provenance": [],
      "collapsed_sections": [],
      "machine_shape": "hm"
    },
    "kernelspec": {
      "display_name": "Python 3",
      "name": "python3"
    }
  },
  "cells": [
    {
      "cell_type": "code",
      "metadata": {
        "colab": {
          "base_uri": "https://localhost:8080/"
        },
        "id": "-6_GfzOsBERg",
        "outputId": "5270028c-2829-42e6-88ec-dc808f629b99"
      },
      "source": [
        "from google.colab import drive\r\n",
        "drive.mount('/gdrive')\r\n",
        "%cd /gdrive/MyDrive/CV_FinalProject\r\n",
        "print(\"===============\")\r\n",
        "!ls "
      ],
      "execution_count": null,
      "outputs": [
        {
          "output_type": "stream",
          "text": [
            "Drive already mounted at /gdrive; to attempt to forcibly remount, call drive.mount(\"/gdrive\", force_remount=True).\n",
            "/gdrive/.shortcut-targets-by-id/1rvVQN848IG4yYS2DU7AHiKiDnungjDoK/CV_FinalProject\n",
            "===============\n",
            " ACFrOgA-LDXeavfNaEi4JheMtzblZOGNwXji8xdWbxw5euLNXjcDCWzcYCz3GTeDKg6j8dpNpSXSPs1opj76ZQrkvWbsVnVlutbbg05b8_RW9t9Tln27MwJp4MVzfB9VTBcaK6-4MitBR0ge7aIf.pdf\n",
            " captions_test.gdoc\n",
            " captions_test.txt\n",
            " Data\n",
            " De-Cuong-CV.docx\n",
            " Dungmn\n",
            "'Final Project VinCV Image Captioning for Vietnamese.gslides'\n",
            "'Final Project VinNLP Image Captioning for Vietnamese.pptx'\n",
            " MTam\n",
            " Nhat\n",
            " Phalc\n",
            "'Preprocessing UIT-ViIC.gsheet'\n"
          ],
          "name": "stdout"
        }
      ]
    },
    {
      "cell_type": "markdown",
      "metadata": {
        "id": "0VHuKwmTfnLQ"
      },
      "source": [
        "#load UIT-ViLC dataset"
      ]
    },
    {
      "cell_type": "code",
      "metadata": {
        "colab": {
          "base_uri": "https://localhost:8080/"
        },
        "id": "WYf6QacTjNQc",
        "outputId": "572a94ec-c7ee-4de1-8fb2-466565d538c7"
      },
      "source": [
        "ls Dungmn/result/"
      ],
      "execution_count": null,
      "outputs": [
        {
          "output_type": "stream",
          "text": [
            "preprocessed_test_result_Resnet512_LSTM_pyvi.json\n",
            "preprocessed_val_result_Resnet512_LSTM_pyvi.json\n",
            "result_Resnet512_LSTM_1e4.json\n",
            "result_Resnet512_LSTM.json\n",
            "Test_Attention_TF.json\n",
            "test_result_Resnet512_LSTM_1e4.json\n",
            "test_result_Resnet512_LSTM_pyvi.json\n",
            "val_result_Resnet512_LSTM_pyvi.json\n"
          ],
          "name": "stdout"
        }
      ]
    },
    {
      "cell_type": "code",
      "metadata": {
        "id": "dR3tOiVMexAm"
      },
      "source": [
        "import json\r\n",
        "\r\n",
        "dataset_path = 'Data/UIT-ViIC/'\r\n",
        "# with open(dataset_path + 'uitviic_captions_val2017.json') as f:\r\n",
        "#   train_data = json.load(f)\r\n",
        "\r\n",
        "with open(\"Dungmn/result/Test_Attention_TF.json\") as f:\r\n",
        "  train_data = json.load(f)\r\n",
        "\r\n",
        "# print(len(train_data['images']))\r\n"
      ],
      "execution_count": null,
      "outputs": []
    },
    {
      "cell_type": "code",
      "metadata": {
        "id": "Xt9OQhjQkcdD"
      },
      "source": [
        "def convert_predicted_sentences_to_plain_sentence(string):\r\n",
        "    string = string.replace(\"<start> \", '')\r\n",
        "    string = string.replace('_', ' ')\r\n",
        "    string = string.replace('<end>', '.')\r\n",
        "    string = string.strip()\r\n",
        "    return string"
      ],
      "execution_count": null,
      "outputs": []
    },
    {
      "cell_type": "code",
      "metadata": {
        "colab": {
          "base_uri": "https://localhost:8080/"
        },
        "id": "xOWIt835jfJQ",
        "outputId": "f8cf38ae-f627-4301-d18e-37c18c94bf1c"
      },
      "source": [
        "for i,data in enumerate(train_data):\r\n",
        "    # train_data[i]['caption'] = convert_predicted_sentences_to_plain_sentence(data['caption'])\r\n",
        "    print(data)"
      ],
      "execution_count": null,
      "outputs": [
        {
          "output_type": "stream",
          "text": [
            "{'id': 0, 'image_id': 7615, 'caption': 'cầu thủ bóng chày đứng trên sân một trận thi đấu bóng chày .'}\n",
            "{'id': 1, 'image_id': 351855, 'caption': 'vận động viên tennis đang cầm vợt thi đấu trên sân .'}\n",
            "{'id': 2, 'image_id': 208006, 'caption': 'một người đàn ông đang vung vợt để đánh quả bóng chày đứng trên sân .'}\n",
            "{'id': 3, 'image_id': 118272, 'caption': 'hai người đàn ông áo xanh đang đứng gần những quả bóng tennis .'}\n",
            "{'id': 4, 'image_id': 176477, 'caption': 'người phụ nữ đang chơi tennis trên sân .'}\n",
            "{'id': 5, 'image_id': 14864, 'caption': 'một người phụ nữ váy trắng đang thi đấu tennis ở trên sân .'}\n",
            "{'id': 6, 'image_id': 256884, 'caption': 'một người phụ nữ đang nhảy lên để đánh bóng .'}\n",
            "{'id': 7, 'image_id': 123731, 'caption': 'người phụ nữ đang vung vợt để ném bóng .'}\n",
            "{'id': 8, 'image_id': 59252, 'caption': 'các cầu thủ bóng đá đang thi đấu ở trên sân với nhau ở trên sân .'}\n",
            "{'id': 9, 'image_id': 515075, 'caption': 'những đứa trẻ đang chơi bóng chày trên sân .'}\n",
            "{'id': 10, 'image_id': 463758, 'caption': 'một người đàn ông đang cầm vợt chơi tennis .'}\n",
            "{'id': 11, 'image_id': 476341, 'caption': 'cầu thủ bắt bóng đang chuẩn bị bắt bóng .'}\n",
            "{'id': 12, 'image_id': 272735, 'caption': 'người đàn ông đang chơi tennis trên sân .'}\n",
            "{'id': 13, 'image_id': 503689, 'caption': 'những người phụ nữ đang vung gậy bóng chày .'}\n",
            "{'id': 14, 'image_id': 252470, 'caption': 'khán giả đang theo dõi cú ném bóng của cầu thủ bắt bóng .'}\n",
            "{'id': 15, 'image_id': 143348, 'caption': 'một nam vận động viên tennis đang vung vợt để đánh bóng .'}\n",
            "{'id': 16, 'image_id': 471558, 'caption': 'nam vận động viên đang chơi bóng trước nhiều người ở trên sân .'}\n",
            "{'id': 17, 'image_id': 416355, 'caption': 'hình ảnh của nữ vận động viên tennis .'}\n",
            "{'id': 18, 'image_id': 188029, 'caption': 'các cầu thủ bóng chày đang chuẩn bị đánh bóng .'}\n",
            "{'id': 19, 'image_id': 157239, 'caption': 'người phụ nữ đang cầm vợt và bóng .'}\n",
            "{'id': 20, 'image_id': 518858, 'caption': 'một đội bóng đang thi đấu ở trên sân .'}\n",
            "{'id': 21, 'image_id': 174574, 'caption': 'một người đàn ông đang cầm vợt tennis đứng trên sân .'}\n",
            "{'id': 22, 'image_id': 443393, 'caption': 'vận động viên tennis nữ đang cầm vợt và bóng tennis .'}\n",
            "{'id': 23, 'image_id': 562596, 'caption': 'người đàn ông áo trắng đang chơi tennis trên sân .'}\n",
            "{'id': 24, 'image_id': 457275, 'caption': 'hai sọc đang chơi bóng đá nhiều người phụ nữ .'}\n",
            "{'id': 25, 'image_id': 242739, 'caption': 'người đàn ông đang chơi bóng đá trên sân .'}\n",
            "{'id': 26, 'image_id': 45071, 'caption': 'một quả bóng .'}\n",
            "{'id': 27, 'image_id': 371735, 'caption': 'hai người đàn ông đang chơi tennis ở trên sân tennis .'}\n",
            "{'id': 28, 'image_id': 534440, 'caption': 'một người phụ nữ đang nhảy lên để đánh bóng .'}\n",
            "{'id': 29, 'image_id': 129510, 'caption': 'người đàn ông đang cầm vợt tennis trên sân .'}\n",
            "{'id': 30, 'image_id': 221625, 'caption': 'một người phụ nữ đang vung vợt tennis ở trên sân .'}\n",
            "{'id': 31, 'image_id': 500740, 'caption': 'cầu thủ bóng chày đang cầm vợt thi đấu trên sân .'}\n",
            "{'id': 32, 'image_id': 306456, 'caption': 'một nữ vận động viên tennis đang chuẩn bị bắt bóng .'}\n",
            "{'id': 33, 'image_id': 333546, 'caption': 'một nữ vận động viên tennis đang cầm vợt và quả bóng tennis .'}\n",
            "{'id': 34, 'image_id': 481168, 'caption': 'vận động viên tennis trước đón bóng .'}\n",
            "{'id': 35, 'image_id': 94893, 'caption': 'các cầu thủ bóng chày đang thi đấu ở trên sân .'}\n",
            "{'id': 36, 'image_id': 153921, 'caption': 'các cầu thủ bóng đá đang thi đấu ở trên sân .'}\n",
            "{'id': 37, 'image_id': 473616, 'caption': 'vận động viên tennis đang cầm vợt tennis đứng trên sân tennis .'}\n",
            "{'id': 38, 'image_id': 216556, 'caption': 'một người đàn ông và một người phụ nữ đang chơi tennis ở trên sân .'}\n",
            "{'id': 39, 'image_id': 123558, 'caption': 'hình ảnh của hai đội đang tranh chấp bóng với nhau ở trên sân .'}\n",
            "{'id': 40, 'image_id': 520457, 'caption': 'một nhóm người đang cầm vợt và dùng vợt để đánh quả bóng tennis .'}\n",
            "{'id': 41, 'image_id': 94150, 'caption': 'người đàn ông đang cầm vợt chơi tennis về phía bóng .'}\n",
            "{'id': 42, 'image_id': 555956, 'caption': 'hai người phụ nữ áo trắng đang chơi tennis trên sân .'}\n",
            "{'id': 43, 'image_id': 435161, 'caption': 'một nữ cầu thủ tennis đang chơi bóng đá ở trên sân .'}\n",
            "{'id': 44, 'image_id': 283999, 'caption': 'những người đàn ông đang chơi bóng chày trên sân .'}\n",
            "{'id': 45, 'image_id': 9895, 'caption': 'một cậu bé đang cầm vợt tennis trên sân .'}\n",
            "{'id': 46, 'image_id': 205367, 'caption': 'người đàn ông đang vung vợt để đánh bóng .'}\n",
            "{'id': 47, 'image_id': 453682, 'caption': 'hình ảnh của trận thi đấu bóng chày nam đang cầm vợt đánh bóng chày .'}\n",
            "{'id': 48, 'image_id': 198054, 'caption': 'vận động viên tennis nam đang cầm vợt thi đấu trên sân .'}\n",
            "{'id': 49, 'image_id': 287656, 'caption': 'cầu thủ bóng chày đứng trên sân ném bóng trên sân .'}\n",
            "{'id': 50, 'image_id': 335660, 'caption': 'vận động viên tennis đang thi đấu trên sân .'}\n",
            "{'id': 51, 'image_id': 520434, 'caption': 'một người phụ nữ áo tím đang chơi tennis trên sân .'}\n",
            "{'id': 52, 'image_id': 104075, 'caption': 'người phụ nữ đang bước tới trước để đánh quả bóng tennis .'}\n",
            "{'id': 53, 'image_id': 11015, 'caption': 'các cầu thủ bóng đá đang cầm vợt và đứng trên sân tennis .'}\n",
            "{'id': 54, 'image_id': 253264, 'caption': 'một nhóm người đàn ông và cô bé .'}\n",
            "{'id': 55, 'image_id': 401885, 'caption': 'một người phụ nữ đang chơi tennis trên sân .'}\n",
            "{'id': 56, 'image_id': 490268, 'caption': 'những cậu bé đang chơi bóng chày ở trên sân .'}\n",
            "{'id': 57, 'image_id': 417627, 'caption': 'người phụ nữ áo trắng đang cầm vợt và la hét tennis .'}\n",
            "{'id': 58, 'image_id': 276062, 'caption': 'cầu thủ đang chơi bóng chày .'}\n",
            "{'id': 59, 'image_id': 431167, 'caption': 'cầu thủ bóng chày đang vung gậy bóng chày bước tới đỡ bóng .'}\n",
            "{'id': 60, 'image_id': 316914, 'caption': 'cầu thủ ném bóng đang chuẩn bị ném bóng .'}\n",
            "{'id': 61, 'image_id': 145926, 'caption': 'cầu thủ bắt bóng đang chuẩn bị ném bóng .'}\n",
            "{'id': 62, 'image_id': 102835, 'caption': 'người phụ nữ cầm vợt tennis tới đỡ bóng lên cao để bắt cầm vợt tennis trên sân .'}\n",
            "{'id': 63, 'image_id': 73999, 'caption': 'người phụ nữ đang cầm vợt tennis chơi sau khi chơi tennis lên cao .'}\n",
            "{'id': 64, 'image_id': 140690, 'caption': 'khán giả đang theo dõi một trận thi đấu tennis cùng với nhau ở trên sân .'}\n",
            "{'id': 65, 'image_id': 391325, 'caption': 'một nhóm người đang chơi bóng đá ở trên sân .'}\n",
            "{'id': 66, 'image_id': 118535, 'caption': 'người đàn ông đang cầm gậy bóng chày thi đấu trên sân .'}\n",
            "{'id': 67, 'image_id': 184371, 'caption': 'một người đàn ông đang chuẩn bị ném bóng .'}\n",
            "{'id': 68, 'image_id': 32603, 'caption': 'một con chó đang đặt trên tay cầm bóng .'}\n",
            "{'id': 69, 'image_id': 306890, 'caption': 'một người phụ nữ đang chuẩn bị đánh quả bóng tennis .'}\n",
            "{'id': 70, 'image_id': 267957, 'caption': 'hình ảnh một người đàn ông đang ôm gậy .'}\n",
            "{'id': 71, 'image_id': 73212, 'caption': 'một người đàn ông áo xanh biển đang chơi tennis chuẩn bị giao bóng .'}\n",
            "{'id': 72, 'image_id': 49120, 'caption': 'một người đàn ông áo trắng đang cầm vợt tennis trên sân .'}\n",
            "{'id': 73, 'image_id': 70687, 'caption': 'cầu thủ bắt bóng vừa thực hiện động tác đánh bóng của cầu thủ bắt bóng .'}\n",
            "{'id': 74, 'image_id': 549496, 'caption': 'những người đàn ông đang chơi bóng chày ở trong một trận thi đấu .'}\n",
            "{'id': 75, 'image_id': 222555, 'caption': 'người phụ nữ đang cầm vợt tennis .'}\n",
            "{'id': 76, 'image_id': 245697, 'caption': 'một người đàn ông áo cam đang chụp bóng chày cho bóng lên bóng chày .'}\n",
            "{'id': 77, 'image_id': 45554, 'caption': 'những người đàn ông đang luyện tập động tác đánh bóng .'}\n",
            "{'id': 78, 'image_id': 281214, 'caption': 'hai vận động viên tennis đang cầm vợt tennis và thi đấu trên sân .'}\n",
            "{'id': 79, 'image_id': 349919, 'caption': 'một người đàn ông đang đưa vợt tennis trên sân .'}\n",
            "{'id': 80, 'image_id': 219335, 'caption': 'một người phụ nữ đang phát bóng ở trên sân .'}\n",
            "{'id': 81, 'image_id': 524819, 'caption': 'một người đàn ông áo trắng cầm vợt tennis ở trên sân .'}\n",
            "{'id': 82, 'image_id': 103401, 'caption': 'các cầu thủ bóng chày đang thi đấu ở trên sân .'}\n",
            "{'id': 83, 'image_id': 416535, 'caption': 'một người phụ nữ đang cầm vợt đánh bóng .'}\n",
            "{'id': 84, 'image_id': 136240, 'caption': 'một cầu thủ đánh bóng đang vung gậy để đánh bóng và trọng tài đang theo dõi một cầu thủ đánh bóng đang vung gậy để đánh bóng .'}\n",
            "{'id': 85, 'image_id': 48604, 'caption': 'một trận thi đấu bóng trên sân .'}\n",
            "{'id': 86, 'image_id': 246412, 'caption': 'những người đàn ông đang chơi bóng chày ở trên sân .'}\n",
            "{'id': 87, 'image_id': 150981, 'caption': 'một người đàn ông đang đưa vợt trên sân .'}\n",
            "{'id': 88, 'image_id': 246918, 'caption': 'một người đàn ông đang chơi tennis lên cao .'}\n",
            "{'id': 89, 'image_id': 529964, 'caption': 'vận động viên tennis đang thi đấu ở trên sân .'}\n",
            "{'id': 90, 'image_id': 334171, 'caption': 'một cậu bé đang cầm gậy bóng chày .'}\n",
            "{'id': 91, 'image_id': 205086, 'caption': 'những đứa trẻ đang chơi bóng đá trên sân .'}\n",
            "{'id': 92, 'image_id': 558942, 'caption': 'hai người đàn ông đang chơi bóng đá trên sân .'}\n",
            "{'id': 93, 'image_id': 529137, 'caption': 'một cầu thủ ném bóng đang quan sát .'}\n",
            "{'id': 94, 'image_id': 43856, 'caption': 'người đang chơi tennis ở trên tay .'}\n",
            "{'id': 95, 'image_id': 52943, 'caption': 'những người đàn ông đang chơi bóng chày ở trên sân .'}\n",
            "{'id': 96, 'image_id': 91558, 'caption': 'người phụ nữ đang chơi tennis về phía bóng .'}\n",
            "{'id': 97, 'image_id': 209844, 'caption': 'một người phụ nữ đang đưa vợt để chuẩn bị phát bóng .'}\n",
            "{'id': 98, 'image_id': 572998, 'caption': 'một cầu thủ đánh bóng đang chuẩn bị đánh quả bóng chày .'}\n",
            "{'id': 99, 'image_id': 465412, 'caption': 'một người phụ nữ đang cầm vợt đang chạy tới trước để đánh quả bóng tennis .'}\n",
            "{'id': 100, 'image_id': 61358, 'caption': 'một người đàn ông áo đen đang cầm vợt tennis đánh bóng .'}\n",
            "{'id': 101, 'image_id': 52957, 'caption': 'một người đàn ông đang giơ gậy lên cao để tranh chấp bóng .'}\n",
            "{'id': 102, 'image_id': 23098, 'caption': 'vận động viên tennis đang cầm vợt thi đấu trên sân .'}\n",
            "{'id': 103, 'image_id': 384595, 'caption': 'cầu thủ bóng chày đang cầm gậy thi đấu trên sân .'}\n",
            "{'id': 104, 'image_id': 45049, 'caption': 'người phụ nữ đang theo dõi chuyển động của người chơi tennis trên sân .'}\n",
            "{'id': 105, 'image_id': 123038, 'caption': 'hai người phụ nữ đang chuẩn bị dùng vợt để đánh bóng .'}\n",
            "{'id': 106, 'image_id': 154564, 'caption': 'một cầu thủ ném bóng đang chuẩn bị ném bóng .'}\n",
            "{'id': 107, 'image_id': 376843, 'caption': 'khán giả đang theo dõi một nam vận động viên tennis đang vung vợt để phát bóng ở trên sân trước để đánh quả bóng tennis .'}\n",
            "{'id': 108, 'image_id': 165820, 'caption': 'cầu thủ ném bóng đang đứng cạnh một chân .'}\n",
            "{'id': 109, 'image_id': 85872, 'caption': 'người đàn ông áo đen đang cầm gậy đứng trên sân chuẩn bị ném quả bóng chày .'}\n",
            "{'id': 110, 'image_id': 446557, 'caption': 'một đứa trẻ đang cầm vợt và đứng trên bãi biển với cái vợt tennis ở trên cái vợt tennis ở trên cái vợt tennis để đỡ quả bóng tennis .'}\n",
            "{'id': 111, 'image_id': 216114, 'caption': 'các cầu thủ bóng chày đang diễn ra ở trên sân .'}\n",
            "{'id': 112, 'image_id': 20698, 'caption': 'người đàn ông áo trắng đang cầm vợt bước tới đánh tennis .'}\n",
            "{'id': 113, 'image_id': 125218, 'caption': 'những đứa trẻ đang cầm quả bóng .'}\n",
            "{'id': 114, 'image_id': 333383, 'caption': 'một người phụ nữ đang thi đấu tennis .'}\n",
            "{'id': 115, 'image_id': 521865, 'caption': 'một cậu bé đang vung vợt tennis .'}\n",
            "{'id': 116, 'image_id': 90464, 'caption': 'hình ảnh người phụ nữ áo trắng đang cầm vợt đứng trên sân .'}\n",
            "{'id': 117, 'image_id': 476045, 'caption': 'trận thi đấu bóng bầu dục .'}\n",
            "{'id': 118, 'image_id': 423234, 'caption': 'những cầu thủ khác đang theo dõi đường bay của quả bóng chày .'}\n",
            "{'id': 119, 'image_id': 564627, 'caption': 'vận động viên tennis đang cầm vợt tennis .'}\n",
            "{'id': 120, 'image_id': 354575, 'caption': 'hình ảnh hai người phụ nữ đang cầm vợt tennis trên sân .'}\n",
            "{'id': 121, 'image_id': 304473, 'caption': 'một người phụ nữ đang chơi tennis ở trên sân .'}\n",
            "{'id': 122, 'image_id': 170227, 'caption': 'ở trên sân bức ảnh người đang vung vợt tennis đánh bóng ở trên sân .'}\n",
            "{'id': 123, 'image_id': 502916, 'caption': 'một người phụ nữ đang chơi tennis trên sân .'}\n",
            "{'id': 124, 'image_id': 370851, 'caption': 'người đàn ông đang chơi với một con voi đang chơi với một người đàn ông đang chơi với một con voi đang chơi với một con voi đang chơi với một con voi đang chơi với một'}\n",
            "{'id': 125, 'image_id': 542745, 'caption': 'người đàn ông áo trắng đang cầm vợt thi đấu .'}\n",
            "{'id': 126, 'image_id': 246875, 'caption': 'một cầu thủ đánh bóng đang dùng găng tay để chuẩn bị bắt quả bóng chày .'}\n",
            "{'id': 127, 'image_id': 158451, 'caption': 'các cầu thủ bóng của cầu thủ bắt bóng .'}\n",
            "{'id': 128, 'image_id': 405210, 'caption': 'khán giả đang diễn ra .'}\n",
            "{'id': 129, 'image_id': 243153, 'caption': 'hình ảnh một trận thi đấu tennis với nhau trên sân .'}\n",
            "{'id': 130, 'image_id': 212741, 'caption': 'vận động viên tennis đang cầm vợt đứng ngoài biên phát bóng .'}\n",
            "{'id': 131, 'image_id': 307475, 'caption': 'một người đàn ông đang vung gậy để đánh bóng .'}\n",
            "{'id': 132, 'image_id': 86549, 'caption': 'một người đàn ông đang đưa hai tay .'}\n",
            "{'id': 133, 'image_id': 559306, 'caption': 'một cầu thủ đánh bóng đang vung gậy để đánh quả bóng chày .'}\n",
            "{'id': 134, 'image_id': 517906, 'caption': 'người phụ nữ đang cầm vợt tennis đánh trả bóng .'}\n",
            "{'id': 135, 'image_id': 242712, 'caption': 'một nữ cầu thủ bóng đá đang bị mắc kẹt .'}\n",
            "{'id': 136, 'image_id': 99184, 'caption': 'một người đàn ông đang chuẩn bị sút bóng .'}\n",
            "{'id': 137, 'image_id': 538747, 'caption': 'một người đàn ông đang chuẩn bị ném quả bóng chày .'}\n",
            "{'id': 138, 'image_id': 154496, 'caption': 'một cậu bé đang đứng trên sân cỏ gậy bóng chày ở trên sân cỏ .'}\n",
            "{'id': 139, 'image_id': 380351, 'caption': 'các cầu thủ bóng đá đang thi đấu bóng đá ở trên sân .'}\n",
            "{'id': 140, 'image_id': 465198, 'caption': 'hai người phụ nữ đang cầm vợt tennis đứng trên sân tennis .'}\n",
            "{'id': 141, 'image_id': 477451, 'caption': 'cầu thủ bóng chày đang ném bóng .'}\n",
            "{'id': 142, 'image_id': 413324, 'caption': 'vận động viên tennis đang cầm vợt với nhau .'}\n",
            "{'id': 143, 'image_id': 364941, 'caption': 'một người phụ nữ đang vung vợt để đánh quả bóng tennis .'}\n",
            "{'id': 144, 'image_id': 338018, 'caption': 'một người phụ nữ đang cầm vợt đánh tennis .'}\n",
            "{'id': 145, 'image_id': 445073, 'caption': 'những cậu bé đang hướng dẫn cách chơi tennis .'}\n",
            "{'id': 146, 'image_id': 276420, 'caption': 'vận động viên tennis đứng trên sân cầm vợt tennis thi đấu trên sân .'}\n",
            "{'id': 147, 'image_id': 347604, 'caption': 'một nữ vận động viên tennis đang vươn người để đánh quả bóng tennis .'}\n",
            "{'id': 148, 'image_id': 390213, 'caption': 'vận động viên tennis tay .'}\n",
            "{'id': 149, 'image_id': 90238, 'caption': 'một người đàn ông đang cầm vợt tennis và đứng ở trên sân .'}\n",
            "{'id': 150, 'image_id': 388641, 'caption': 'người phụ nữ áo đen đang cầm vợt tennis thi đấu .'}\n",
            "{'id': 151, 'image_id': 349614, 'caption': 'các cầu thủ đang chơi bóng đá trên sân .'}\n",
            "{'id': 152, 'image_id': 316807, 'caption': 'một người đàn ông đang chơi tennis trên sân .'}\n",
            "{'id': 153, 'image_id': 458147, 'caption': 'một nam vận động viên tennis đang vung vợt tennis đánh trả bóng .'}\n",
            "{'id': 154, 'image_id': 259186, 'caption': 'một người phụ nữ đang chuẩn bị đánh quả bóng tennis .'}\n",
            "{'id': 155, 'image_id': 180818, 'caption': 'cầu thủ bóng bầu dục đang thi đấu trên sân .'}\n",
            "{'id': 156, 'image_id': 150477, 'caption': 'cầu thủ ném bóng đang nghiêng người để đánh bóng .'}\n",
            "{'id': 157, 'image_id': 455565, 'caption': 'vận động viên tennis nam vừa nhảy lên đánh bóng .'}\n",
            "{'id': 158, 'image_id': 324006, 'caption': 'một cầu thủ bóng chày đang cầm gậy đứng trên sân vung gậy đánh trả bóng .'}\n",
            "{'id': 159, 'image_id': 49429, 'caption': 'một người phụ nữ đang cầm vợt tennis đang theo dõi chuyển động của hai quả bóng tennis .'}\n",
            "{'id': 160, 'image_id': 52843, 'caption': 'một người đàn ông đang nghiêng người để đánh bóng .'}\n",
            "{'id': 161, 'image_id': 83174, 'caption': 'người đàn ông đang cầm gậy bóng chày trên sân .'}\n",
            "{'id': 162, 'image_id': 288943, 'caption': 'một nam vận động viên tennis đang vung vợt để đánh bóng .'}\n",
            "{'id': 163, 'image_id': 473928, 'caption': 'hình ảnh một cầu thủ bắt bóng và trọng tài đang diễn ra .'}\n",
            "{'id': 164, 'image_id': 30712, 'caption': 'hai người đàn ông đang cầm vợt tennis trên sân .'}\n",
            "{'id': 165, 'image_id': 319731, 'caption': 'hình ảnh một người phụ nữ đang cầm vợt và nhảy lên vung vợt để đánh bóng .'}\n",
            "{'id': 166, 'image_id': 120241, 'caption': 'một người đàn ông đang hướng dẫn cách chơi tennis trên sân .'}\n",
            "{'id': 167, 'image_id': 392520, 'caption': 'người phụ nữ đang vung vợt đánh trả bóng .'}\n",
            "{'id': 168, 'image_id': 507969, 'caption': 'một cậu bé đang cầm vợt và đứng ở trong khi người đàn ông vừa ném bóng ở trong khi người đàn ông đang cầm vợt và đứng ở trên sân .'}\n",
            "{'id': 169, 'image_id': 43873, 'caption': 'một con hải cẩu đang chơi với một quả bóng .'}\n",
            "{'id': 170, 'image_id': 398696, 'caption': 'người đàn ông áo xanh dương đang chơi tennis trên sân .'}\n",
            "{'id': 171, 'image_id': 151927, 'caption': 'vận động viên tennis nữ đang bước đi ở trên sân .'}\n",
            "{'id': 172, 'image_id': 429182, 'caption': 'một trận thi đấu bóng chày trên sân .'}\n",
            "{'id': 173, 'image_id': 448826, 'caption': 'một người phụ nữ đang cầm vợt tennis và đứng trên sân tennis .'}\n",
            "{'id': 174, 'image_id': 43163, 'caption': 'một người phụ nữ đang vung vợt đánh trả bóng .'}\n",
            "{'id': 175, 'image_id': 442518, 'caption': 'một người đang chơi bóng đá trên sân .'}\n",
            "{'id': 176, 'image_id': 14876, 'caption': 'một người đàn ông đang vung gậy .'}\n",
            "{'id': 177, 'image_id': 78986, 'caption': 'một người đang chơi bóng chày ở trên sân .'}\n",
            "{'id': 178, 'image_id': 373177, 'caption': 'một nữ vận động viên tennis đang nhảy lên .'}\n",
            "{'id': 179, 'image_id': 53101, 'caption': 'người phụ nữ đang cầm vợt tennis và áo trắng đang di chuyển và dùng vợt để đánh bóng .'}\n",
            "{'id': 180, 'image_id': 198042, 'caption': 'một cầu thủ ném bóng đang chuẩn bị ném bóng .'}\n",
            "{'id': 181, 'image_id': 164462, 'caption': 'một người đàn ông đang cầm vợt tennis nhảy lên để đánh quả bóng tennis .'}\n",
            "{'id': 182, 'image_id': 85564, 'caption': 'các cầu thủ đánh bóng của cầu thủ trả bóng .'}\n",
            "{'id': 183, 'image_id': 378081, 'caption': 'một người đàn ông đang luyện tập tennis ở trên sân .'}\n",
            "{'id': 184, 'image_id': 328574, 'caption': 'thả những người đàn ông đang ngồi xuống đất ở trên sân .'}\n",
            "{'id': 185, 'image_id': 169494, 'caption': 'các cầu thủ bóng chày đang đứng trên sân bóng .'}\n",
            "{'id': 186, 'image_id': 243660, 'caption': 'trận bóng chày đang diễn ra với cầu thủ đang vung gậy để đánh bóng .'}\n",
            "{'id': 187, 'image_id': 129437, 'caption': 'người đàn ông đang chơi bóng chày ở trên sân .'}\n",
            "{'id': 188, 'image_id': 336532, 'caption': 'những cậu bé đang theo dõi cú đánh bóng của những đứa trẻ đang cầm gậy và cái trụ .'}\n",
            "{'id': 189, 'image_id': 19318, 'caption': 'hình ảnh hai cầu thủ bóng chày đang thi đấu ở trên sân .'}\n",
            "{'id': 190, 'image_id': 548822, 'caption': 'một người đang chơi bóng đá ở trên sân .'}\n",
            "{'id': 191, 'image_id': 80215, 'caption': 'một người đàn ông đang đưa vợt tennis trên sân .'}\n",
            "{'id': 192, 'image_id': 123697, 'caption': 'một con chó đang đặt trong miệng .'}\n",
            "{'id': 193, 'image_id': 245598, 'caption': 'những cậu bé đang chơi bóng chày trên sân .'}\n",
            "{'id': 194, 'image_id': 240225, 'caption': 'đứa trẻ đang chơi bóng đá ở trên sân cỏ dưới trời nắng .'}\n",
            "{'id': 195, 'image_id': 357989, 'caption': 'người đàn ông áo xanh đang chơi bóng với hai người đàn ông .'}\n",
            "{'id': 196, 'image_id': 182861, 'caption': 'đứa trẻ đang cầm gậy bóng chày đứng ngoài sân .'}\n",
            "{'id': 197, 'image_id': 581409, 'caption': 'cậu bé đang vung gậy để đánh bóng .'}\n",
            "{'id': 198, 'image_id': 216454, 'caption': 'cầu thủ bóng chày đang vung gậy đánh bóng .'}\n",
            "{'id': 199, 'image_id': 539270, 'caption': 'hai người đàn ông đang chơi bóng chày ở trên sân .'}\n",
            "{'id': 200, 'image_id': 562124, 'caption': 'hai người đang cầm vợt tennis đánh bóng trong trận .'}\n",
            "{'id': 201, 'image_id': 138977, 'caption': 'những đứa trẻ đang đánh bóng .'}\n",
            "{'id': 202, 'image_id': 318310, 'caption': 'một người đàn ông đang chơi tennis trên sân .'}\n",
            "{'id': 203, 'image_id': 565360, 'caption': 'hai người đàn ông đang chơi bóng đá ở trên sân .'}\n",
            "{'id': 204, 'image_id': 76740, 'caption': 'người phụ nữ đang cầm vợt tennis đứng trên sân .'}\n",
            "{'id': 205, 'image_id': 101249, 'caption': 'cầu thủ bóng chày đang vung gậy đánh trả bóng .'}\n",
            "{'id': 206, 'image_id': 307990, 'caption': 'một người đàn ông đang nhảy lên vung vợt tennis đánh bóng cao .'}\n",
            "{'id': 207, 'image_id': 52208, 'caption': 'một nữ vận động viên tennis đang vung vợt để đánh bóng .'}\n",
            "{'id': 208, 'image_id': 432884, 'caption': 'vận động viên tennis nữ cầm vợt tennis ở trên sân .'}\n",
            "{'id': 209, 'image_id': 362898, 'caption': 'một người đàn ông đang chơi tennis ở trên sân .'}\n",
            "{'id': 210, 'image_id': 509030, 'caption': 'cầu thủ ném bóng đang vung gậy bóng ở trên sân bóng .'}\n",
            "{'id': 211, 'image_id': 31642, 'caption': 'một số người đang cầm vợt đứng quan sát .'}\n",
            "{'id': 212, 'image_id': 85948, 'caption': 'khán giả đang theo dõi cú ném bóng của một trận đấu .'}\n",
            "{'id': 213, 'image_id': 375321, 'caption': 'vận động viên tennis đang chuẩn bị giao bóng .'}\n",
            "{'id': 214, 'image_id': 85876, 'caption': 'người đàn ông đang dùng vợt để đánh quả bóng tennis .'}\n",
            "{'id': 215, 'image_id': 401094, 'caption': 'một người phụ nữ đang cầm vợt tennis ở trên sân .'}\n",
            "{'id': 216, 'image_id': 138265, 'caption': 'một cầu thủ phát bóng của người ở trên sân .'}\n",
            "{'id': 217, 'image_id': 425200, 'caption': 'vận động viên tennis đang chuẩn bị đánh bóng .'}\n",
            "{'id': 218, 'image_id': 532014, 'caption': 'quả bóng đang chuẩn bị ném bóng .'}\n",
            "{'id': 219, 'image_id': 267289, 'caption': 'vận động viên bóng đang vung gậy để chuẩn bị phát bóng .'}\n",
            "{'id': 220, 'image_id': 131522, 'caption': 'một cầu thủ bóng chày đang chuẩn bị đánh bóng .'}\n",
            "{'id': 221, 'image_id': 379944, 'caption': 'một vai một quả bóng chày .'}\n",
            "{'id': 222, 'image_id': 70749, 'caption': 'vận động viên tennis đang cầm vợt thi đấu trên sân .'}\n",
            "{'id': 223, 'image_id': 392776, 'caption': 'người đàn ông đang cầm vợt tennis và chuẩn bị giao bóng .'}\n",
            "{'id': 224, 'image_id': 94155, 'caption': 'cầu thủ đánh bóng đang vung gậy bóng chày .'}\n",
            "{'id': 225, 'image_id': 559553, 'caption': 'các vận động viên tennis đang cầm bóng .'}\n",
            "{'id': 226, 'image_id': 321346, 'caption': 'một nam vận động viên tennis đang nhảy lên đỡ bóng .'}\n",
            "{'id': 227, 'image_id': 447484, 'caption': 'một vận động viên tennis đang vung vợt trước để đỡ bóng .'}\n",
            "{'id': 228, 'image_id': 363257, 'caption': 'một nam vận động viên tennis đang vung vợt để phát bóng .'}\n",
            "{'id': 229, 'image_id': 554036, 'caption': 'các cầu thủ bóng chày đang chuẩn bị đánh một cầu thủ đang thi đấu trên sân trước đông đảo khán giả .'}\n",
            "{'id': 230, 'image_id': 335013, 'caption': 'một nam vận động viên tennis đang ngồi trên bàn gỗ .'}\n"
          ],
          "name": "stdout"
        }
      ]
    },
    {
      "cell_type": "code",
      "metadata": {
        "id": "xESe4UfxN8Q4"
      },
      "source": [
        "import json\r\n",
        "with open('Dungmn/result/Test_Attention_TF.json', 'w', encoding='utf-8') as f:\r\n",
        "    json.dump(train_data, f, ensure_ascii=False, indent=4)"
      ],
      "execution_count": null,
      "outputs": []
    },
    {
      "cell_type": "code",
      "metadata": {
        "colab": {
          "base_uri": "https://localhost:8080/"
        },
        "id": "F8dx8acQRHA8",
        "outputId": "7ded0ded-6e98-4f83-ed76-592db3f6a645"
      },
      "source": [
        "ls Data/UIT-ViIC/train_imgs/*.jpg -1 |wc -l"
      ],
      "execution_count": null,
      "outputs": [
        {
          "output_type": "stream",
          "text": [
            "2695\n"
          ],
          "name": "stdout"
        }
      ]
    },
    {
      "cell_type": "markdown",
      "metadata": {
        "id": "R2Vhan3vASEY"
      },
      "source": [
        "#Edit annos\r\n"
      ]
    },
    {
      "cell_type": "code",
      "metadata": {
        "colab": {
          "base_uri": "https://localhost:8080/",
          "height": 402
        },
        "id": "ZE9pErOzARP1",
        "outputId": "b80a8af0-933f-49b5-d436-e82f0fbeeccf"
      },
      "source": [
        "import pandas as pd\r\n",
        "\r\n",
        "df = pd.read_csv(\"Dungmn/correct_captions_val.csv\", names=['image_id','cap_id','caption'])\r\n",
        "df"
      ],
      "execution_count": null,
      "outputs": [
        {
          "output_type": "execute_result",
          "data": {
            "text/html": [
              "<div>\n",
              "<style scoped>\n",
              "    .dataframe tbody tr th:only-of-type {\n",
              "        vertical-align: middle;\n",
              "    }\n",
              "\n",
              "    .dataframe tbody tr th {\n",
              "        vertical-align: top;\n",
              "    }\n",
              "\n",
              "    .dataframe thead th {\n",
              "        text-align: right;\n",
              "    }\n",
              "</style>\n",
              "<table border=\"1\" class=\"dataframe\">\n",
              "  <thead>\n",
              "    <tr style=\"text-align: right;\">\n",
              "      <th></th>\n",
              "      <th>image_id</th>\n",
              "      <th>cap_id</th>\n",
              "      <th>caption</th>\n",
              "    </tr>\n",
              "  </thead>\n",
              "  <tbody>\n",
              "    <tr>\n",
              "      <th>0</th>\n",
              "      <td>314357</td>\n",
              "      <td>15159</td>\n",
              "      <td>Hai người đàn ông đang chơi bóng đá trên sân .</td>\n",
              "    </tr>\n",
              "    <tr>\n",
              "      <th>1</th>\n",
              "      <td>498204</td>\n",
              "      <td>6058</td>\n",
              "      <td>Cầu thủ bóng chày đang cầm gậy đứng trên sân n...</td>\n",
              "    </tr>\n",
              "    <tr>\n",
              "      <th>2</th>\n",
              "      <td>337038</td>\n",
              "      <td>16688</td>\n",
              "      <td>Vận động viên bóng chày đang cầm gậy thi đấu t...</td>\n",
              "    </tr>\n",
              "    <tr>\n",
              "      <th>3</th>\n",
              "      <td>522256</td>\n",
              "      <td>3920</td>\n",
              "      <td>Hai đứa trẻ cầm gậy bóng chày chơi ngoài vườn .</td>\n",
              "    </tr>\n",
              "    <tr>\n",
              "      <th>4</th>\n",
              "      <td>556342</td>\n",
              "      <td>14864</td>\n",
              "      <td>Ở dưới chân núi</td>\n",
              "    </tr>\n",
              "    <tr>\n",
              "      <th>...</th>\n",
              "      <td>...</td>\n",
              "      <td>...</td>\n",
              "      <td>...</td>\n",
              "    </tr>\n",
              "    <tr>\n",
              "      <th>186</th>\n",
              "      <td>58073</td>\n",
              "      <td>761</td>\n",
              "      <td>Có một con chó nằm trên chăn .</td>\n",
              "    </tr>\n",
              "    <tr>\n",
              "      <th>187</th>\n",
              "      <td>58073</td>\n",
              "      <td>8128</td>\n",
              "      <td>một con chó lớn trên giường có một cái gì đó t...</td>\n",
              "    </tr>\n",
              "    <tr>\n",
              "      <th>188</th>\n",
              "      <td>338501</td>\n",
              "      <td>4122</td>\n",
              "      <td>Người đàn ông mặc đồ trắng đang chơi bóng chày...</td>\n",
              "    </tr>\n",
              "    <tr>\n",
              "      <th>189</th>\n",
              "      <td>207943</td>\n",
              "      <td>18507</td>\n",
              "      <td>Cầu thủ bóng chày đang thực hiện động tác ném ...</td>\n",
              "    </tr>\n",
              "    <tr>\n",
              "      <th>190</th>\n",
              "      <td>473281</td>\n",
              "      <td>2201</td>\n",
              "      <td>Người đàn ông đang cầm vợt tennis bước sang đỡ...</td>\n",
              "    </tr>\n",
              "  </tbody>\n",
              "</table>\n",
              "<p>191 rows × 3 columns</p>\n",
              "</div>"
            ],
            "text/plain": [
              "     image_id  cap_id                                            caption\n",
              "0      314357   15159     Hai người đàn ông đang chơi bóng đá trên sân .\n",
              "1      498204    6058  Cầu thủ bóng chày đang cầm gậy đứng trên sân n...\n",
              "2      337038   16688  Vận động viên bóng chày đang cầm gậy thi đấu t...\n",
              "3      522256    3920    Hai đứa trẻ cầm gậy bóng chày chơi ngoài vườn .\n",
              "4      556342   14864                                   Ở dưới chân núi \n",
              "..        ...     ...                                                ...\n",
              "186     58073     761                     Có một con chó nằm trên chăn .\n",
              "187     58073    8128  một con chó lớn trên giường có một cái gì đó t...\n",
              "188    338501    4122  Người đàn ông mặc đồ trắng đang chơi bóng chày...\n",
              "189    207943   18507  Cầu thủ bóng chày đang thực hiện động tác ném ...\n",
              "190    473281    2201  Người đàn ông đang cầm vợt tennis bước sang đỡ...\n",
              "\n",
              "[191 rows x 3 columns]"
            ]
          },
          "metadata": {
            "tags": []
          },
          "execution_count": 4
        }
      ]
    },
    {
      "cell_type": "code",
      "metadata": {
        "colab": {
          "base_uri": "https://localhost:8080/"
        },
        "id": "Pq10sD6YiRnE",
        "outputId": "f4e7b01c-274d-458a-b108-5244ac569944"
      },
      "source": [
        "df_none = df[df.caption == \"None\"]\r\n",
        "img_none = df_none.image_id.to_list()\r\n",
        "type(img_none[0])"
      ],
      "execution_count": null,
      "outputs": [
        {
          "output_type": "execute_result",
          "data": {
            "text/plain": [
              "int"
            ]
          },
          "metadata": {
            "tags": []
          },
          "execution_count": 13
        }
      ]
    },
    {
      "cell_type": "code",
      "metadata": {
        "colab": {
          "base_uri": "https://localhost:8080/"
        },
        "id": "TmxdQpR_QPHR",
        "outputId": "0f1e19df-e942-4b42-9c73-66e1cef37f43"
      },
      "source": [
        "print(len(train_data['images']))"
      ],
      "execution_count": null,
      "outputs": [
        {
          "output_type": "stream",
          "text": [
            "2688\n"
          ],
          "name": "stdout"
        }
      ]
    },
    {
      "cell_type": "code",
      "metadata": {
        "id": "zc6u99kms-_w",
        "colab": {
          "base_uri": "https://localhost:8080/"
        },
        "outputId": "bc95d91c-0010-4e08-9f23-90e514ecffa7"
      },
      "source": [
        "cnt=0\r\n",
        "for index, img in enumerate(train_data['images']):\r\n",
        "    if img['id'] in img_none:\r\n",
        "        del train_data['images'][index]\r\n",
        "        cnt = cnt + 1\r\n",
        "print(f\"Removed {cnt} images\")"
      ],
      "execution_count": null,
      "outputs": [
        {
          "output_type": "stream",
          "text": [
            "Removed 0 images\n"
          ],
          "name": "stdout"
        }
      ]
    },
    {
      "cell_type": "code",
      "metadata": {
        "colab": {
          "base_uri": "https://localhost:8080/"
        },
        "id": "shkb0hZlQjRE",
        "outputId": "b3a0bafc-9ca8-4d87-f1b4-ec6a0c862129"
      },
      "source": [
        "train_data['annotations'][0]"
      ],
      "execution_count": null,
      "outputs": [
        {
          "output_type": "execute_result",
          "data": {
            "text/plain": [
              "{'caption': 'Người đàn ông đang đánh tennis ngoài sân.',\n",
              " 'id': 4990,\n",
              " 'image_id': 157656}"
            ]
          },
          "metadata": {
            "tags": []
          },
          "execution_count": 21
        }
      ]
    },
    {
      "cell_type": "code",
      "metadata": {
        "colab": {
          "base_uri": "https://localhost:8080/"
        },
        "id": "DAiUYEJHHwZ-",
        "outputId": "622c568f-c9a2-4cb6-b2ac-ea1bea82815e"
      },
      "source": [
        "cnt=0\r\n",
        "for index, ann in enumerate(train_data['annotations']):\r\n",
        "    if ann['image_id'] in img_none:\r\n",
        "        del train_data['images'][index]\r\n",
        "        cnt = cnt + 1\r\n",
        "print(f\"Removed {cnt} images\")"
      ],
      "execution_count": null,
      "outputs": [
        {
          "output_type": "stream",
          "text": [
            "1054\n",
            "Một nam vận động viên tennis đang bàn bạc chiến thuật với huấn luyện viên .\n",
            "3002\n",
            "Người đàn ông đang chạy tới vung vợt tennis đánh trả bóng .\n",
            "7045\n",
            "Vận động viên tennis nữ đứng trên sân cầm vợt và bóng .\n",
            "7530\n",
            "Hình ảnh của hai đứa trẻ đang chơi bóng đá trên sân .\n",
            "8125\n",
            "Cầu thủ bóng chày đang cầm gậy đứng thấp người đánh bóng .\n",
            "9817\n",
            "Có một người đang đưa vợt tennis lên cao đứng trong tối .\n",
            "12190\n",
            "Hai đứa trẻ đang chạy về phía bóng trên sân cỏ .\n"
          ],
          "name": "stdout"
        }
      ]
    },
    {
      "cell_type": "code",
      "metadata": {
        "colab": {
          "base_uri": "https://localhost:8080/",
          "height": 35
        },
        "id": "y-1IHWpxesWN",
        "outputId": "b97e1dea-813a-4640-e2ed-7374699bf99a"
      },
      "source": [
        "train_data['annotations'][1054]['caption']"
      ],
      "execution_count": null,
      "outputs": [
        {
          "output_type": "execute_result",
          "data": {
            "application/vnd.google.colaboratory.intrinsic+json": {
              "type": "string"
            },
            "text/plain": [
              "'Một nam vận động viên tennis đang bàn bạc chiến thuật với huấn luyện viên .'"
            ]
          },
          "metadata": {
            "tags": []
          },
          "execution_count": 11
        }
      ]
    },
    {
      "cell_type": "code",
      "metadata": {
        "id": "GP11c7exKi5u"
      },
      "source": [
        "def getIndexCap(row):\r\n",
        "    for idx,ann in enumerate(train_data['annotations']):\r\n",
        "        if ann['image_id'] == row['image_id'] and ann['id'] == int(row['cap_id']):\r\n",
        "             return idx\r\n",
        "    return -1"
      ],
      "execution_count": null,
      "outputs": []
    },
    {
      "cell_type": "code",
      "metadata": {
        "colab": {
          "base_uri": "https://localhost:8080/"
        },
        "id": "Nrmpd4oOIbfk",
        "outputId": "b2c29d45-b155-423c-9468-f3ca709d6351"
      },
      "source": [
        "cnt = 0\r\n",
        "for index, row in df.iterrows():\r\n",
        "    if row['caption'] != \"None\":\r\n",
        "        id = getIndexCap(row)\r\n",
        "        print(\"ID: \", id)\r\n",
        "        print(f\"Before {train_data['annotations'][id]['caption']}\")\r\n",
        "        train_data['annotations'][id]['caption'] = row['caption']\r\n",
        "        print(f\"After {train_data['annotations'][id]['caption']}\")\r\n",
        "        cnt +=1\r\n",
        "\r\n",
        "    else:\r\n",
        "        assert \"None Caption!\"\r\n",
        "print(\"Total: \",cnt)"
      ],
      "execution_count": null,
      "outputs": [
        {
          "output_type": "stream",
          "text": [
            "ID:  463\n",
            "Before Hai người đàn ông đang chơi bóng đá trên sân / .\n",
            "After Hai người đàn ông đang chơi bóng đá trên sân .\n",
            "ID:  2866\n",
            "Before Cầu thủ bóng chày đang cầm gậy đứng trên sân nhà sắn sàng đỡ bóng .\n",
            "After Cầu thủ bóng chày đang cầm gậy đứng trên sân nhà sẵn sàng đỡ bóng .\n",
            "ID:  4619\n",
            "Before Vận đọng viên bóng chày đang cầm gậy thi đấu trên sân .\n",
            "After Vận động viên bóng chày đang cầm gậy thi đấu trên sân .\n",
            "ID:  4441\n",
            "Before Hai đứa trẻ cầm gậy bóng chày chơi ngoài vường .\n",
            "After Hai đứa trẻ cầm gậy bóng chày chơi ngoài vườn .\n",
            "ID:  4322\n",
            "Before Ở dưới chân núi , , ột nhóm người đang đứng rải rác với quả bóng đá ở trên sân cạnh chân núi .\n",
            "After Ở dưới chân núi \n",
            "ID:  4184\n",
            "Before Cầu thủ bóng chày nẽ đang thực hiện cú ném bóng .\n",
            "After Cầu thủ bóng chày nữ đang thực hiện cú ném bóng .\n",
            "ID:  2333\n",
            "Before Vận động viên tennis nam đang cầm vợt teinnis đỡ bóng cao .\n",
            "After Vận động viên tennis nam đang cầm vợt tennis đỡ bóng cao .\n",
            "ID:  3599\n",
            "Before Một nữ vận động viên tennsi đang cầm vợt và đứng cạnh bước tường .\n",
            "After Một nữ vận động viên tennis đang cầm vợt và đứng cạnh bức tường .\n",
            "ID:  2673\n",
            "Before Nhiều người dang luyện tập bóng chày ở trên sân .\n",
            "After Nhiều người đang luyện tập bóng chày ở trên sân .\n",
            "ID:  670\n",
            "Before Những nguời khác đang theo dõi động tác của người phụ nữ với cái gậy bóng chày .\n",
            "After Những người khác đang theo dõi động tác của người phụ nữ với cái gậy bóng chày .\n",
            "ID:  3521\n",
            "Before Một cầu thủ ném bóng đang xoay ngươi để ném bóng .\n",
            "After Một cầu thủ ném bóng đang xoay người để ném bóng .\n",
            "ID:  4364\n",
            "Before Người phụ nữ áo trắng đang chơi tennis trến ân .\n",
            "After Người phụ nữ áo trắng đang chơi tennis trên sân .\n",
            "ID:  584\n",
            "Before Vận động viên tennis đang đưa vợt lên cao chuản bị đánh bóng .\n",
            "After Vận động viên tennis đang đưa vợt lên cao chuẩn bị đánh bóng .\n",
            "ID:  332\n",
            "Before Vận động viên tenns nam đang cầm vợt nhảy lên đánh trả bóng .\n",
            "After Vận động viên tennis nam đang cầm vợt nhảy lên đánh trả bóng .\n",
            "ID:  797\n",
            "Before Đội tennis nữ gồm hai người đang giao bóng trong trận dấu .\n",
            "After Đội tennis nữ gồm hai người đang giao bóng trong trận đấu .\n",
            "ID:  2064\n",
            "Before Những ngươi đàn ông đang chơi bóng chày ở trên sân .\n",
            "After Những người đàn ông đang chơi bóng chày ở trên sân .\n",
            "ID:  1144\n",
            "Before Các cầu thủ bóng chày đang thi đấu sở trên sân .\n",
            "After Các cầu thủ bóng chày đang thi đấu ở trên sân .\n",
            "ID:  1301\n",
            "Before Người đàn ông ông cầm vợ tennis đánh bóng trái tay . ,\n",
            "After Người đàn ông ông cầm vợt tennis đánh bóng trái tay . \n",
            "ID:  4384\n",
            "Before Người đàn ông áo xanh dương trắng đanng chơi tennis trên sân .\n",
            "After Người đàn ông áo xanh dương trắng đang chơi tennis trên sân .\n",
            "ID:  1549\n",
            "Before Một số những đứa tẻ đang cùng nhau đá bóng trên sân cỏ . q\n",
            "After Một số những đứa trẻ đang cùng nhau đá bóng trên sân cỏ . \n",
            "ID:  3116\n",
            "Before Hai vận dộng viên bóng bàn đang thi đấu ở trong nhà .\n",
            "After Hai vận động viên bóng bàn đang thi đấu ở trong nhà .\n",
            "ID:  377\n",
            "Before Một sô người đang chơi bóng đá trên sân cỏ .\n",
            "After Một số người đang chơi bóng đá trên sân cỏ .\n",
            "ID:  3017\n",
            "Before Môt cầu thủ chạy gôn đang chạy về gôn trong khi một cầu thủ bắt bóng đang giơ găng tay lên cao .\n",
            "After Một cầu thủ chạy gôn đang chạy về gôn trong khi một cầu thủ bắt bóng đang giơ găng tay lên cao .\n",
            "ID:  585\n",
            "Before Môt cậu bé áo trắng đang chạy về gôn trong khi một cậu bé áo xanh lục đang giơ găng tay lên cao .\n",
            "After Một cậu bé áo trắng đang chạy về gôn trong khi một cậu bé áo xanh lục đang giơ găng tay lên cao .\n",
            "ID:  2229\n",
            "Before Qaun chó đang nhìn quả bóng trên bãi biển .\n",
            "After Con chó đang nhìn quả bóng trên bãi biển .\n",
            "ID:  2920\n",
            "Before Người phụ nữ đang cầm vợt tennis chuản bị đỡ bóng .\n",
            "After Người phụ nữ đang cầm vợt tennis chuẩn bị đỡ bóng .\n",
            "ID:  2677\n",
            "Before Người phụ nữ đang cầm vợt tennis chạy them bóng .\n",
            "After Người phụ nữ đang cầm vợt tennis chạy theo bóng .\n",
            "ID:  1920\n",
            "Before Một người đang cầm gậy bóng chày chuẩn bị dỡ bóng .\n",
            "After Một người đang cầm gậy bóng chày chuẩn bị đỡ bóng .\n",
            "ID:  3893\n",
            "Before Cầu thủ đáng bóng đang nghiêng người để đánh quả bóng chày .\n",
            "After Cầu thủ đánh bóng đang nghiêng người để đánh quả bóng chày .\n",
            "ID:  2045\n",
            "Before Cầu thủ đáng bóng đang dùng gậy để đánh quả bóng chày .\n",
            "After Cầu thủ đánh bóng đang dùng gậy để đánh quả bóng chày .\n",
            "ID:  2094\n",
            "Before Một nguời đàn ông đang xoay người để đánh quả bóng tennis .\n",
            "After Một người đàn ông đang xoay người để đánh quả bóng tennis .\n",
            "ID:  2325\n",
            "Before Một nguời đàn ông đang nhảy lên để đánh quả bóng tennis .\n",
            "After Một người đàn ông đang nhảy lên để đánh quả bóng tennis .\n",
            "ID:  337\n",
            "Before Một nguời đàn ông đang bay người để đánh quả bóng tennis .\n",
            "After Một người đàn ông đang bay người để đánh quả bóng tennis .\n",
            "ID:  1646\n",
            "Before Một cầu thủ bóng chày đang tượt người xuống sân tranh bóng .\n",
            "After Một cầu thủ bóng chày đang trượt người xuống sân tranh bóng .\n",
            "ID:  2662\n",
            "Before Cầu thủ bóng chày trướn người xuống sân cố gắng chụp bóng .\n",
            "After Cầu thủ bóng chày trườn người xuống sân cố gắng chụp bóng .\n",
            "ID:  2895\n",
            "Before Một cậu bé đang đưa quan sát đường bay của quả bóng tennis .\n",
            "After Một cậu bé đang quan sát đường bay của quả bóng tennis .\n",
            "ID:  3481\n",
            "Before Hai người đàn ông đang chwoi tennis trên sân .\n",
            "After Hai người đàn ông đang chơi tennis trên sân .\n",
            "ID:  3812\n",
            "Before Người đàn ông asot rắng đang chơi bóng đá trên sân .\n",
            "After Người đàn ông áo trắng đang chơi bóng đá trên sân .\n",
            "ID:  2501\n",
            "Before Các cầu thủ bóng đá đang đá bong trên sân cỏ .\n",
            "After Các cầu thủ bóng đá đang đá bóng trên sân cỏ .\n",
            "ID:  3035\n",
            "Before Cầu thủ bóng chày đang càm gậy thi đấu trên sân .\n",
            "After Cầu thủ bóng chày đang cầm gậy thi đấu trên sân .\n",
            "ID:  1296\n",
            "Before Một người đàn ông đang cầm vơt tennis và không mặc áo ở trên sân .\n",
            "After Một người đàn ông đang cầm vợt tennis và không mặc áo ở trên sân .\n",
            "ID:  2362\n",
            "Before Đứa trẻ đang đứan cạnh trụ đặt bóng tay cầm gậy bóng chày .\n",
            "After Đứa trẻ đang đứng cạnh trụ đặt bóng tay cầm gậy bóng chày .\n",
            "ID:  4536\n",
            "Before Những người đàn ông đang chơi bóng chày ở gần toà nhà .\n",
            "After Những người đàn ông đang chơi bóng chày ở gần tòa nhà .\n",
            "ID:  2805\n",
            "Before Những người đàn ông đang luyện tập bóng chày ở gần toà nhà .\n",
            "After Những người đàn ông đang luyện tập bóng chày ở gần tòa nhà .\n",
            "ID:  2127\n",
            "Before Xung quanh con chó có nhiều qảu bóng tennis màu xanh .\n",
            "After Xung quanh con chó có nhiều quả bóng tennis màu xanh .\n",
            "ID:  3628\n",
            "Before Con chó đang hả mõm và giữ quả bóng bằng chân trước .\n",
            "After Con chó đang há mõm và giữ quả bóng bằng chân trước .\n",
            "ID:  2532\n",
            "Before Một nữ vận động viên tennis đang nghiêng nguời để đánh bóng .\n",
            "After Một nữ vận động viên tennis đang nghiêng người để đánh bóng .\n",
            "ID:  4187\n",
            "Before Người phụ nữ đang cầm vợt tenns thi đấu trên sân .\n",
            "After Người phụ nữ đang cầm vợt tennis thi đấu trên sân .\n",
            "ID:  2158\n",
            "Before Người đàn ông mặc đồ đen đang chơi tenins trên sân .\n",
            "After Người đàn ông mặc đồ đen đang chơi tennis trên sân .\n",
            "ID:  1474\n",
            "Before Người đàn ông áo trắng đang chơi bóng đá trến ân .\n",
            "After Người đàn ông áo trắng đang chơi bóng đá trên sân .\n",
            "ID:  4016\n",
            "Before Hình ảnh dưới chân của một người cùng vợt tenni và bóng tennis .\n",
            "After Hình ảnh dưới chân của một người cùng vợt tennis và bóng tennis .\n",
            "ID:  2551\n",
            "Before Người đàn ông đang mặc đồng phục bóng chày trắng đen đang chơi bsong chày trên sân .\n",
            "After Người đàn ông đang mặc đồng phục bóng chày trắng đen đang chơi bóng chày trên sân .\n",
            "ID:  84\n",
            "Before Trọng tài đang quán sát hai cầu thủ bóng chày chơi bóng.\n",
            "After Trọng tài đang quan sát hai cầu thủ bóng chày chơi bóng.\n",
            "ID:  1638\n",
            "Before Vận động viên áo xanh dương đang trong tư thế chuẩn bị đáng bóng .\n",
            "After Vận động viên áo xanh dương đang trong tư thế chuẩn bị đánh bóng .\n",
            "ID:  2700\n",
            "Before Vận động viên bóng chày đưa vợt vìa phía sau chuẩn bị đón bóng .\n",
            "After Vận động viên bóng chày đưa vợt về phía sau chuẩn bị đón bóng .\n",
            "ID:  3695\n",
            "Before Cầu thủ đánh bóng đang vung gậy bóng chày về phsia quả bóng .\n",
            "After Cầu thủ đánh bóng đang vung gậy bóng chày về phía quả bóng .\n",
            "ID:  947\n",
            "Before Một nguời phụ nữ đang vung vợt để đánh quả bóng tennis .\n",
            "After Một người phụ nữ đang vung vợt để đánh quả bóng tennis .\n",
            "ID:  4271\n",
            "Before Người đàn ông áo trắng đangt thực hiện cú ném bóng .\n",
            "After Người đàn ông áo trắng đang thực hiện cú ném bóng .\n",
            "ID:  3041\n",
            "Before Những con voi đang chwoi cùng những quả bóng lớn .\n",
            "After Những con voi đang chơi cùng những quả bóng lớn .\n",
            "ID:  2334\n",
            "Before Hai đứa rẻ đang cùng nhau đá bóng trên sân cỏ .\n",
            "After Hai đứa trẻ đang cùng nhau đá bóng trên sân cỏ .\n",
            "ID:  2\n",
            "Before Hai cầu thủ tennis đan thi đấu trước nhiều người quan sát\n",
            "After Hai cầu thủ tennis đang thi đấu trước nhiều người quan sát\n",
            "ID:  3\n",
            "Before Trận tennis đant diễn ra trước nhiều người quan sát\n",
            "After Trận tennis đang diễn ra trước nhiều người quan sát\n",
            "ID:  3185\n",
            "Before Các cậu bé đang chơi bóng đá ở gần những toà nhà .\n",
            "After Các cậu bé đang chơi bóng đá ở gần những tòa nhà .\n",
            "ID:  3202\n",
            "Before Người đàn ông áo trắng đang chươi bóng chày trên sân .\n",
            "After Người đàn ông áo trắng đang chơi bóng chày trên sân .\n",
            "ID:  481\n",
            "Before cầu thủ bóng chày đang ngã người về sâu chuẩn bị ném bóng .\n",
            "After cầu thủ bóng chày đang ngả người về sau chuẩn bị ném bóng .\n",
            "ID:  364\n",
            "Before Con cừu bông đang được đặt trên cái ghế ở trong phòng khác .\n",
            "After Con cừu bông đang được đặt trên cái ghế ở trong phòng khách .\n",
            "ID:  4609\n",
            "Before Một nhóm những đứ trẻ đang đứng trên sân bóng đá dưới trời nắng .\n",
            "After Một nhóm những đứa trẻ đang đứng trên sân bóng đá dưới trời nắng .\n",
            "ID:  192\n",
            "Before Các cầu thủ bóng đá trẻ đang thi đấu trên sân cỏ dưới trời mứa .\n",
            "After Các cầu thủ bóng đá trẻ đang thi đấu trên sân cỏ dưới trời mưa .\n",
            "ID:  2444\n",
            "Before Môt nhóm người phụ nữ đang luyện tập đá banh .\n",
            "After Một nhóm người phụ nữ đang luyện tập đá banh .\n",
            "ID:  107\n",
            "Before Người đang ống đang trượt xuống cầu trượt bằng ván.\n",
            "After Người đàn ông đang trượt xuống cầu trượt bằng ván.\n",
            "ID:  2492\n",
            "Before Càu thủ bắt bóng đang đứng thấp người đưa tay về phía trước .\n",
            "After Cầu thủ bắt bóng đang đứng thấp người đưa tay về phía trước .\n",
            "ID:  3822\n",
            "Before Vận động viên tennis nam đang cầm vợt thi đấu trến ân .\n",
            "After Vận động viên tennis nam đang cầm vợt thi đấu trên sân .\n",
            "ID:  37\n",
            "Before Một số người đang xin chữ kí cầu thủ bóng chày.\n",
            "After Một số người đang xin chữ ký cầu thủ bóng chày.\n",
            "ID:  38\n",
            "Before Một nhóm người đang tụ tập xin chữ kí cầu thủ bóng chày ngoài sân.\n",
            "After Một nhóm người đang tụ tập xin chữ ký cầu thủ bóng chày ngoài sân.\n",
            "ID:  36\n",
            "Before Một số người đang đứng xung quanh cầu thủ bóng chày xin chữ kí.\n",
            "After Một số người đang đứng xung quanh cầu thủ bóng chày xin chữ ký.\n",
            "ID:  2527\n",
            "Before Vận động viên áo xanh đang mang nón bảo hộ omafu đen .\n",
            "After Vận động viên áo xanh đang mang nón bảo hộ màu đen .\n",
            "ID:  2348\n",
            "Before Hai người phụ nữ đang uống dẽo trên sân bóng đá ngoài bãi biển .\n",
            "After Hai người phụ nữ đang uốn dẻo trên sân bóng đá ngoài bãi biển .\n",
            "ID:  4557\n",
            "Before hai người phụ nữ đang uống dẽo trên sân cỏ .\n",
            "After hai người phụ nữ đang uốn dẻo trên sân cỏ .\n",
            "ID:  720\n",
            "Before Hai người phụ nữ đang biểu diễn uốn dẽo trên sân cỏ cùng đám đông đang quan sát .\n",
            "After Hai người phụ nữ đang biểu diễn uốn dẻo trên sân cỏ cùng đám đông đang quan sát .\n",
            "ID:  1979\n",
            "Before Hai người phụ nữ đang biểu diễn uốn dẽo trước đám đông trên sân bóng .\n",
            "After Hai người phụ nữ đang biểu diễn uốn dẻo trước đám đông trên sân bóng .\n",
            "ID:  4045\n",
            "Before cầu thủ bóng chày đang vung gậy đánh bóng trước cầu thú bắt bóng .\n",
            "After cầu thủ bóng chày đang vung gậy đánh bóng trước cầu thủ bắt bóng .\n",
            "ID:  3636\n",
            "Before một số trẻ em đang xem một anh chàng với chiếc dĩa nhựa trong công viên\n",
            "After một số trẻ em đang xem một anh chàng với chiếc nĩa nhựa trong công viên\n",
            "ID:  1688\n",
            "Before Đứa trẻ đang chơi cùng quả bóng nhực ngoài đồng cỏ .\n",
            "After Đứa trẻ đang chơi cùng quả bóng nhựa ngoài đồng cỏ .\n",
            "ID:  4400\n",
            "Before Vận động viên tennis namd đang cầm vợt chuẩn bị đánh bóng .\n",
            "After Vận động viên tennis nam đang cầm vợt chuẩn bị đánh bóng .\n",
            "ID:  2165\n",
            "Before Vận dộng viên tennis nam đang vung vợt đánh trả bóng .\n",
            "After Vận động viên tennis nam đang vung vợt đánh trả bóng .\n",
            "ID:  2198\n",
            "Before Vận động viên tenins nam cầm vợt sẵn sàng đánh trả bóng .\n",
            "After Vận động viên tennis nam cầm vợt sẵn sàng đánh trả bóng .\n",
            "ID:  635\n",
            "Before Người đàn ông áo trắng đang chwoi tennis trên sân .\n",
            "After Người đàn ông áo trắng đang chơi tennis trên sân .\n",
            "ID:  41\n",
            "Before Mốt số người chơi tennis điện tử.\n",
            "After Một số người chơi tennis điện tử.\n",
            "ID:  42\n",
            "Before Hai người đang chơi tennis điển tử và vài người quan sát.\n",
            "After Hai người đang chơi tennis điện tử và vài người quan sát.\n",
            "ID:  310\n",
            "Before Các cầu thủ bóng đá nữ đang thi đấu trên san cỏ dưới trời nắng .\n",
            "After Các cầu thủ bóng đá nữ đang thi đấu trên sân cỏ dưới trời nắng .\n",
            "ID:  1405\n",
            "Before Bên phải quả bóng và cái trụ là một cậu bé ảo đỏ với cái gậy .\n",
            "After Bên phải quả bóng và cái trụ là một cậu bé áo đỏ với cái gậy .\n",
            "ID:  2727\n",
            "Before Người đàn ông măc đồ trắng đang chơi bóng chày trên sân .\n",
            "After Người đàn ông mặc đồ trắng đang chơi bóng chày trên sân .\n",
            "ID:  3152\n",
            "Before Người đàn ông áo đen đang chươi tennis trên sân .\n",
            "After Người đàn ông áo đen đang chơi tennis trên sân .\n",
            "ID:  2050\n",
            "Before Người đàn ông áo trắng đang chươi bóng chày trên sân .\n",
            "After Người đàn ông áo trắng đang chơi bóng chày trên sân .\n",
            "ID:  1541\n",
            "Before Cầu thủ bóng chày đang càm gậy đứng trên sân đánh bóng .\n",
            "After Cầu thủ bóng chày đang cầm gậy đứng trên sân đánh bóng .\n",
            "ID:  88\n",
            "Before Một đứa trẻ đang chuẩn bij ném quả bóng chày.\n",
            "After Một đứa trẻ đang chuẩn bị ném quả bóng chày.\n",
            "ID:  4342\n",
            "Before Hình ảnh của hai người đàn ông dang chơi bóng chày trên sân .\n",
            "After Hình ảnh của hai người đàn ông đang chơi bóng chày trên sân .\n",
            "ID:  2896\n",
            "Before Hai người đàn ông áo trắng quán sát trái banh đang bay .\n",
            "After Hai người đàn ông áo trắng quan sát trái banh đang bay .\n",
            "ID:  3445\n",
            "Before Phụ huỵnh đang hướng dẫn cách chơi bóng chày cho những đứa trẻ .\n",
            "After Phụ huynh đang hướng dẫn cách chơi bóng chày cho những đứa trẻ .\n",
            "ID:  4080\n",
            "Before Các vận động viên bóng chày đang thi đấu treen sân .\n",
            "After Các vận động viên bóng chày đang thi đấu trên sân .\n",
            "ID:  2549\n",
            "Before Hai người dàn ông đang chơi bóng chày ở ngoài trời .\n",
            "After Hai người đàn ông đang chơi bóng chày ở ngoài trời .\n",
            "ID:  53\n",
            "Before Một con chó đang chơi với cẩn cẩu đồ chơi trên bãi cỏ.\n",
            "After Một con chó đang chơi với cần cẩu đồ chơi trên bãi cỏ.\n",
            "ID:  4178\n",
            "Before Người đàn ông áo đỏ đang chwoi bóng chày trên sân .\n",
            "After Người đàn ông áo đỏ đang chơi bóng chày trên sân .\n",
            "ID:  180\n",
            "Before Cầu thủ bóng chày ảo đỏ đang cầm bóng thi đấu trên sân .\n",
            "After Cầu thủ bóng chày áo đỏ đang cầm bóng thi đấu trên sân .\n",
            "ID:  868\n",
            "Before Các cầu thủ bòng chày đang thi đấu trên sân trước đông đảo khán giả .\n",
            "After Các cầu thủ bóng chày đang thi đấu trên sân trước đông đảo khán giả .\n",
            "ID:  2658\n",
            "Before Người đàn ông đang đỡ bóng bằn gvowjt bóng bàn .\n",
            "After Người đàn ông đang đỡ bóng bằng vợt bóng bàn .\n",
            "ID:  596\n",
            "Before Người đàn ông áo đen đang chwoi bóng chày trên sân .\n",
            "After Người đàn ông áo đen đang chơi bóng chày trên sân .\n",
            "ID:  4024\n",
            "Before Người đàn ôn gáo đen đang chơi bóng chày trên sân .\n",
            "After Người đàn ông áo đen đang chơi bóng chày trên sân .\n",
            "ID:  4560\n",
            "Before Vận động viên tennis nam đang cầm vợ thi đấu trên sân .\n",
            "After Vận động viên tennis nam đang cầm vợt thi đấu trên sân .\n",
            "ID:  579\n",
            "Before Hai vận đọng viên tennis đang luyện tập ở trên sân đất nện .\n",
            "After Hai vận động viên tennis đang luyện tập ở trên sân đất nện .\n",
            "ID:  2907\n",
            "Before Người đàn ông áo xám đang chươi bóng chày trên sân .\n",
            "After Người đàn ông áo xám đang chơi bóng chày trên sân .\n",
            "ID:  2610\n",
            "Before Cầu thủ đáng bóng đang giơ gậy lên cao để chuẩn bị đánh bóng .\n",
            "After Cầu thủ đánh bóng đang giơ gậy lên cao để chuẩn bị đánh bóng .\n",
            "ID:  405\n",
            "Before Vận động viên teninis nam đang cầm vợt thi đấu trước đông đảo khán giả .\n",
            "After Vận động viên tennis nam đang cầm vợt thi đấu trước đông đảo khán giả .\n",
            "ID:  668\n",
            "Before Vận động viên tennis nam đang cầm vợt tennis thi đấu trên sân trước đám đôn . g\n",
            "After Vận động viên tennis nam đang cầm vợt tennis thi đấu trên sân trước đám đông .\n",
            "ID:  2088\n",
            "Before Hai người phụ nữ đang cùn nhau đá bóng trên sân .\n",
            "After Hai người phụ nữ đang cùng nhau đá bóng trên sân .\n",
            "ID:  590\n",
            "Before Các cầu thủ khác đang theo dõi pha tranh bóng của hai cầu thủ ở trước khunng thành .\n",
            "After Các cầu thủ khác đang theo dõi pha tranh bóng của hai cầu thủ ở trước khung thành .\n",
            "ID:  3886\n",
            "Before Những thanh niên đang đá bóng treen sân cát .\n",
            "After Những thanh niên đang đá bóng trên sân cát .\n",
            "ID:  49\n",
            "Before Môt con chó đang giữ quả bóng tennis bằng miệng.\n",
            "After Một con chó đang giữ quả bóng tennis bằng miệng.\n",
            "ID:  3789\n",
            "Before Vận động viên tennis nam đang cầm vơt tennis thi đấu trên sân .\n",
            "After Vận động viên tennis nam đang cầm vợt tennis thi đấu trên sân .\n",
            "ID:  2970\n",
            "Before Một cậu bé đang cầm quả bóng chày với chữ kí ở trong găng tay .\n",
            "After Một cậu bé đang cầm quả bóng chày với chữ ký ở trong găng tay .\n",
            "ID:  498\n",
            "Before Quả bóng chày với chữ kí đang được cầm bởi cậu bé áo đỏ .\n",
            "After Quả bóng chày với chữ ký đang được cầm bởi cậu bé áo đỏ .\n",
            "ID:  1281\n",
            "Before Một cậu bé áo đỏ đang cầm quả bóng chày với chữ kí ở trong găng tay .\n",
            "After Một cậu bé áo đỏ đang cầm quả bóng chày với chữ ký ở trong găng tay .\n",
            "ID:  1344\n",
            "Before Người đàn ông và cô bé đang luyện tập tenins ở trên sân .\n",
            "After Người đàn ông và cô bé đang luyện tập tennis ở trên sân .\n",
            "ID:  926\n",
            "Before Người đàn ông đang hưỡng dẫn cách chơi tennis cho cô bé .\n",
            "After Người đàn ông đang hướng dẫn cách chơi tennis cho cô bé .\n",
            "ID:  4156\n",
            "Before Đứa trẻ và người đàn ông đang cùng nahu chơi tennis .\n",
            "After Đứa trẻ và người đàn ông đang cùng nhau chơi tennis .\n",
            "ID:  4362\n",
            "Before Vận động viên tenins nam đang cầm vợt tennis đỡ bóng cao .\n",
            "After Vận động viên tennis nam đang cầm vợt tennis đỡ bóng cao .\n",
            "ID:  3843\n",
            "Before Người đàn ông áo trắng đang chơi tennis trến ân .\n",
            "After Người đàn ông áo trắng đang chơi tennis trên sân .\n",
            "ID:  3549\n",
            "Before Vậ nđộng viên tennis nữ đang giao bóng trước đông đảo khán giả .\n",
            "After Vận động viên tennis nữ đang giao bóng trước đông đảo khán giả .\n",
            "ID:  1266\n",
            "Before Người đàn ông đang cầm gaajy bóng chày chơi ngoài công viên .\n",
            "After Người đàn ông đang cầm gậy bóng chày chơi ngoài công viên .\n",
            "ID:  395\n",
            "Before Mốt số người đang cầm vợt tennis đi trên sân .\n",
            "After Một số người đang cầm vợt tennis đi trên sân .\n",
            "ID:  3942\n",
            "Before Vận động viên tennis nsm đang cầm vợt đánh bóng .\n",
            "After Vận động viên tennis nam đang cầm vợt đánh bóng .\n",
            "ID:  2892\n",
            "Before Cầu thủ bóng chày đang thực hiện động tác ném bóng\n",
            "After Cầu thủ bóng chày đang thực hiện động tác ném bóng .\n",
            "ID:  174\n",
            "Before một con chó đang nằm trên một tấm chăn màu xanh\n",
            "After một con chó đang nằm trên một tấm chăn màu xanh .\n",
            "ID:  2040\n",
            "Before Một con chó nằm trên một tấm thảm và nhai thức ăn.\n",
            "After Một con chó nằm trên một tấm thảm và nhai thức ăn .\n",
            "ID:  3556\n",
            "Before cận cảnh một con chó nằm trên giường\n",
            "After cận cảnh một con chó nằm trên giường .\n",
            "ID:  4110\n",
            "Before Có một con chó nằm trên chăn.\n",
            "After Có một con chó nằm trên chăn .\n",
            "ID:  4146\n",
            "Before một con chó lớn trên giường có một cái gì đó trong miệng của nó\n",
            "After một con chó lớn trên giường có một cái gì đó trong miệng của nó .\n",
            "ID:  328\n",
            "Before Một con chó trong một cánh đồng cỏ với một chiếc dĩa nhựa.\n",
            "After Một con chó trong một cánh đồng cỏ với một chiếc dĩa nhựa .\n",
            "ID:  556\n",
            "Before Một con chó chạy về phía máy ảnh cầm một chiếc dĩa nhựa.\n",
            "After Một con chó chạy về phía máy ảnh cầm một chiếc dĩa nhựa .\n",
            "ID:  1328\n",
            "Before Một con chó chạy qua bãi cỏ xanh mang theo một chiếc dĩa nhựa trong miệng.\n",
            "After Một con chó chạy qua bãi cỏ xanh mang theo một chiếc dĩa nhựa trong miệng .\n",
            "ID:  1828\n",
            "Before con chó đen đang chạy với một cái dĩa nhựa trong miệng\n",
            "After con chó đen đang chạy với một cái dĩa nhựa trong miệng .\n",
            "ID:  4580\n",
            "Before Một con chó mang một chiếc dĩa nhựa băng qua một cánh đồng cỏ.\n",
            "After Một con chó mang một chiếc dĩa nhựa băng qua một cánh đồng cỏ .\n",
            "ID:  3757\n",
            "Before Một số người đang tụ tập choi bóng đá .\n",
            "After Một số người đang tụ tập chơi bóng đá .\n",
            "ID:  2268\n",
            "Before Hai nguời phụ nữ đang đánh tennis đôi trên sân .\n",
            "After Hai người phụ nữ đang đánh tennis đôi trên sân .\n",
            "ID:  641\n",
            "Before Một nhóm những người phụ nữ đang chwoi bóng đá trên sân .\n",
            "After Một nhóm những người phụ nữ đang chơi bóng đá trên sân .\n",
            "ID:  1340\n",
            "Before Cầu thủ đánh bóng đang cầm gậy bóng chày đứng trước cầu thủ bắt bóng /\n",
            "After Cầu thủ đánh bóng đang cầm gậy bóng chày đứng trước cầu thủ bắt bóng .\n",
            "ID:  1057\n",
            "Before Phía sau ba nguwfoi bạn là tấm lưới giăng ngang .\n",
            "After Phía sau ba người bạn là tấm lưới giăng ngang .\n",
            "ID:  3936\n",
            "Before Người phụ nữ ở giữa đang hai tay ôm vợt tennis .\n",
            "After Người phụ nữ ở giữa dang hai tay ôm vợt tennis .\n",
            "ID:  141\n",
            "Before Người phụ nữ đang vung vợ tennis đánh bóng trên sân .\n",
            "After Người phụ nữ đang vung vợt tennis đánh bóng trên sân .\n",
            "ID:  1885\n",
            "Before Người phụ nữ đang vung vợ tennis đánh bóng trên sân .\n",
            "After Người phụ nữ đang vung vợt tennis đánh bóng trên sân .\n",
            "ID:  1899\n",
            "Before Người phụ nữ đang vung vợ tennis đánh bóng trên sân .\n",
            "After Người phụ nữ đang vung vợt tennis đánh bóng trên sân .\n",
            "ID:  2281\n",
            "Before Người phụ nữ đang vung vợ tennis đánh bóng trên sân .\n",
            "After Người phụ nữ đang vung vợt tennis đánh bóng trên sân .\n",
            "ID:  2643\n",
            "Before Người phụ nữ đang vung vợ tennis đánh bóng trên sân .\n",
            "After Người phụ nữ đang vung vợt tennis đánh bóng trên sân .\n",
            "ID:  3718\n",
            "Before Một cầu thủ bóng chày nữ đang đưa tay bát bóng và cầu thủ bóng chày nữ đang chạy trên sân .\n",
            "After Một cầu thủ bóng chày nữ đang đưa tay bắt bóng và cầu thủ bóng chày nữ đang chạy trên sân .\n",
            "ID:  161\n",
            "Before Người phụ nữ đang đẩy quả bóng lên trời bằng máy xấy .\n",
            "After Người phụ nữ đang đẩy quả bóng lên trời bằng máy sấy .\n",
            "ID:  1357\n",
            "Before Người đàn ông cời trần đeo găng tay bóng chày đang đứng tạo dáng chụp hình .\n",
            "After Người đàn ông cởi trần đeo găng tay bóng chày đang đứng tạo dáng chụp hình .\n",
            "ID:  2294\n",
            "Before Hai vận động viên tennis nữ cầm vợt tạo dánh chụp hình\n",
            "After Hai vận động viên tennis nữ cầm vợt tạo dáng chụp hình .\n",
            "ID:  3212\n",
            "Before Một người đàn ông đang đưa vợt ra sau để chuẩn bi đánh quả bóng tennis .\n",
            "After Một người đàn ông đang đưa vợt ra sau để chuẩn bị đánh quả bóng tennis .\n",
            "ID:  1449\n",
            "Before Đứa trẻ đang vung gậy bóng chày về phía bóng đặg trên trụ .\n",
            "After Đứa trẻ đang vung gậy bóng chày về phía bóng đặt trên trụ .\n",
            "ID:  95\n",
            "Before Một người đàn ông đang luyện tập tennis trên sân.\n",
            "After Một người đàn ông đang luyện tập tennis trên sân .\n",
            "ID:  96\n",
            "Before Người đang ông đang luyện tennis trên sân không người.\n",
            "After Người đàn ông đang luyện tennis trên sân không người .\n",
            "ID:  97\n",
            "Before Một người đàn ông cởi trần đang tập giao bóng tennis.\n",
            "After Một người đàn ông cởi trần đang tập giao bóng tennis .\n",
            "ID:  98\n",
            "Before Một người đàn ông cầm vợt tennis đứng trên sân.\n",
            "After Một người đàn ông cầm vợt tennis đứng trên sân .\n",
            "ID:  99\n",
            "Before Người đàn ông đang trong tư thế chuẩn bị giao bóng tennis.\n",
            "After Người đàn ông đang trong tư thế chuẩn bị giao bóng tennis .\n",
            "ID:  615\n",
            "Before Một người đàn ông đang cưỡi trên lưng một con voi.\n",
            "After Một người đàn ông đang cưỡi trên lưng một con voi .\n",
            "ID:  616\n",
            "Before Một người đàn ông đang cưỡi một con voi đang chơi với một quả bóng.\n",
            "After Một người đàn ông đang cưỡi một con voi đang chơi với một quả bóng .\n",
            "ID:  3621\n",
            "Before Một người đàn ông cưỡi trên lưng một con voi nâu đang đá xung quanh một quả bóng đá.\n",
            "After Một người đàn ông cưỡi trên lưng một con voi nâu đang đá xung quanh một quả bóng đá .\n",
            "ID:  3652\n",
            "Before Một người đàn ông cưỡi một con voi đang đá bóng.\n",
            "After Một người đàn ông cưỡi một con voi đang đá bóng .\n",
            "ID:  4575\n",
            "Before Một người đàn ông cưỡi một con voi, trong khi con voi chơi bóng đá.\n",
            "After Một người đàn ông cưỡi một con voi\n",
            "ID:  476\n",
            "Before Một người đàn ông và một cậu bé đang chơi tennis trên sân tennis.\n",
            "After Một người đàn ông và một cậu bé đang chơi tennis trên sân tennis .\n",
            "ID:  1443\n",
            "Before Một người đàn ông và một cậu bé đang ở trên sân tennis.\n",
            "After Một người đàn ông và một cậu bé đang ở trên sân tennis .\n",
            "ID:  1444\n",
            "Before Một người đàn ông quỳ xuống bên cạnh một cậu bé.\n",
            "After Một người đàn ông quỳ xuống bên cạnh một cậu bé .\n",
            "ID:  4249\n",
            "Before Một người đàn ông và một cậu bé đứng và cầm vợt\n",
            "After Một người đàn ông và một cậu bé đứng và cầm vợt .\n",
            "ID:  4370\n",
            "Before Một người đàn ông chỉ cho một cậu bé cách chơi tennis.\n",
            "After Một người đàn ông chỉ cho một cậu bé cách chơi tennis .\n",
            "ID:  2144\n",
            "Before Vân động viên tennis nam đang vung vợt đánh bóng .\n",
            "After Vận động viên tennis nam đang vung vợt đánh bóng .\n",
            "ID:  2831\n",
            "Before Người đàn ông đang cầm vợt bón bàn chơi trên bàn đặt ngoài vườn .\n",
            "After Người đàn ông đang cầm vợt bóng bàn chơi trên bàn đặt ngoài vườn .\n",
            "ID:  4335\n",
            "Before Cẩu thủ đánh bóng đang nghiêng người để đánh quả bóng chày .\n",
            "After Cầu thủ đánh bóng đang nghiêng người để đánh quả bóng chày .\n",
            "ID:  3757\n",
            "Before Một số người đang tụ tập chơi bóng đá .\n",
            "After Một số người đang tụ tập chơi bóng đá .\n",
            "ID:  328\n",
            "Before Một con chó trong một cánh đồng cỏ với một chiếc dĩa nhựa .\n",
            "After Một con chó trong một cánh đồng cỏ với một chiếc dĩa nhựa .\n",
            "ID:  556\n",
            "Before Một con chó chạy về phía máy ảnh cầm một chiếc dĩa nhựa .\n",
            "After Một con chó chạy về phía máy ảnh cầm một chiếc dĩa nhựa .\n",
            "ID:  1328\n",
            "Before Một con chó chạy qua bãi cỏ xanh mang theo một chiếc dĩa nhựa trong miệng .\n",
            "After Một con chó chạy qua bãi cỏ xanh mang theo một chiếc dĩa nhựa trong miệng .\n",
            "ID:  1828\n",
            "Before con chó đen đang chạy với một cái dĩa nhựa trong miệng .\n",
            "After con chó đen đang chạy với một cái dĩa nhựa trong miệng .\n",
            "ID:  4580\n",
            "Before Một con chó mang một chiếc dĩa nhựa băng qua một cánh đồng cỏ .\n",
            "After Một con chó mang một chiếc dĩa nhựa băng qua một cánh đồng cỏ .\n",
            "ID:  174\n",
            "Before một con chó đang nằm trên một tấm chăn màu xanh .\n",
            "After một con chó đang nằm trên một tấm chăn màu xanh .\n",
            "ID:  2040\n",
            "Before Một con chó nằm trên một tấm thảm và nhai thức ăn .\n",
            "After Một con chó nằm trên một tấm thảm và nhai thức ăn .\n",
            "ID:  3556\n",
            "Before cận cảnh một con chó nằm trên giường .\n",
            "After cận cảnh một con chó nằm trên giường .\n",
            "ID:  4110\n",
            "Before Có một con chó nằm trên chăn .\n",
            "After Có một con chó nằm trên chăn .\n",
            "ID:  4146\n",
            "Before một con chó lớn trên giường có một cái gì đó trong miệng của nó .\n",
            "After một con chó lớn trên giường có một cái gì đó trong miệng của nó .\n",
            "ID:  2262\n",
            "Before Người đàn ông mặc đồ trắng đang chơi bóng chày trên sân . /\n",
            "After Người đàn ông mặc đồ trắng đang chơi bóng chày trên sân .\n",
            "ID:  2892\n",
            "Before Cầu thủ bóng chày đang thực hiện động tác ném bóng .\n",
            "After Cầu thủ bóng chày đang thực hiện động tác ném bóng .\n",
            "ID:  3647\n",
            "Before Người đàn ông đang cầm vợ tennis bước sang đỡ bóng .\n",
            "After Người đàn ông đang cầm vợt tennis bước sang đỡ bóng .\n",
            "Total:  191\n"
          ],
          "name": "stdout"
        }
      ]
    },
    {
      "cell_type": "code",
      "metadata": {
        "colab": {
          "base_uri": "https://localhost:8080/"
        },
        "id": "NuC0-UHXMvfM",
        "outputId": "24e45089-73c7-46f6-c328-0a93756d01a9"
      },
      "source": [
        "print(len(train_data['images']))\r\n",
        "print(len(train_data['annotations']))\r\n"
      ],
      "execution_count": null,
      "outputs": [
        {
          "output_type": "stream",
          "text": [
            "2688\n",
            "13458\n"
          ],
          "name": "stdout"
        }
      ]
    },
    {
      "cell_type": "code",
      "metadata": {
        "id": "PKVA0PL4NR9U"
      },
      "source": [
        "import json\r\n",
        "with open(dataset_path + 'preprocessed_uitviic_captions_val2017.json', 'w', encoding='utf-8') as f:\r\n",
        "    json.dump(train_data, f, ensure_ascii=False, indent=4)"
      ],
      "execution_count": null,
      "outputs": []
    },
    {
      "cell_type": "markdown",
      "metadata": {
        "id": "I-_cyLNBI5QG"
      },
      "source": [
        "#View"
      ]
    },
    {
      "cell_type": "code",
      "metadata": {
        "id": "vHIM1cD5WYs7"
      },
      "source": [
        "start_id = 227\r\n",
        "end_id = 1900"
      ],
      "execution_count": null,
      "outputs": []
    },
    {
      "cell_type": "code",
      "metadata": {
        "colab": {
          "base_uri": "https://localhost:8080/",
          "height": 903
        },
        "id": "jogMRnSkftSP",
        "outputId": "b9ce4d7b-66cb-448e-f211-0f7d991d6c98"
      },
      "source": [
        "%matplotlib inline\r\n",
        "import cv2\r\n",
        "import random\r\n",
        "import matplotlib.pyplot as plt\r\n",
        "from google.colab import output\r\n",
        "from google.colab.patches import cv2_imshow\r\n",
        "from time import sleep\r\n",
        "from PIL import Image\r\n",
        "\r\n",
        "print(f\"Loading images from id {start_id} to {end_id}\")\r\n",
        "imgs = train_data['images'][start_id:end_id+1]\r\n",
        "\r\n",
        "for idx,img in enumerate(imgs):\r\n",
        "    output.clear()\r\n",
        "    print(f\"Image_Index: {start_id+idx}\")\r\n",
        "    print(f\"Image_ID: \\033[1m{img['id']}\\033[0m\")\r\n",
        "    print(\"  \") \r\n",
        "    # image = cv2.imread(f\"Data/UIT-ViIC/train_imgs/{img['file_name']}\")\r\n",
        "    # cv2_imshow(image)\r\n",
        "    for ann in train_data['annotations']:\r\n",
        "        if ann['image_id'] == img['id']:\r\n",
        "            print(f\"cap_id \\033[1m{ann['id']}\\033[0m: {ann['caption']}\")\r\n",
        "    \r\n",
        "    plt.imshow(Image.open(f\"Data/UIT-ViIC/test_imgs/{img['file_name']}\"))\r\n",
        "    plt.axis('off')\r\n",
        "    plt.show()\r\n",
        "    sleep(2)\r\n",
        "    input(\"Next Image\")\r\n",
        "\r\n",
        "# print(img['file_name'])\r\n"
      ],
      "execution_count": null,
      "outputs": [
        {
          "output_type": "stream",
          "text": [
            "Image_Index: 227\n",
            "Image_ID: \u001b[1m379944\u001b[0m\n",
            "  \n",
            "cap_id \u001b[1m6400\u001b[0m: Cầu thủ đánh bóng đàng cầm gậy đỡ bóng trên sân .\n",
            "cap_id \u001b[1m12224\u001b[0m: Cầu thủ bóng chày đang vung gậy đánh bóng .\n",
            "cap_id \u001b[1m13393\u001b[0m: Người đàn ông đang chơi bóng chày trên sân cỏ .\n",
            "cap_id \u001b[1m14793\u001b[0m: Cầu thủ bóng chày đang cầm gậy thi đấu trên sân .\n",
            "cap_id \u001b[1m6476\u001b[0m: Cầu thủ bóng chày đang cầm gậy đứng trên sân đánh bóng .\n"
          ],
          "name": "stdout"
        },
        {
          "output_type": "display_data",
          "data": {
            "image/png": "[encoded data removed]",
            "text/plain": [
              "<Figure size 432x288 with 1 Axes>"
            ]
          },
          "metadata": {
            "tags": [],
            "needs_background": "light"
          }
        },
        {
          "output_type": "error",
          "ename": "KeyboardInterrupt",
          "evalue": "ignored",
          "traceback": [
            "\u001b[0;31m---------------------------------------------------------------------------\u001b[0m",
            "\u001b[0;31mKeyboardInterrupt\u001b[0m                         Traceback (most recent call last)",
            "\u001b[0;32m/usr/local/lib/python3.6/dist-packages/ipykernel/kernelbase.py\u001b[0m in \u001b[0;36m_input_request\u001b[0;34m(self, prompt, ident, parent, password)\u001b[0m\n\u001b[1;32m    728\u001b[0m             \u001b[0;32mtry\u001b[0m\u001b[0;34m:\u001b[0m\u001b[0;34m\u001b[0m\u001b[0;34m\u001b[0m\u001b[0m\n\u001b[0;32m--> 729\u001b[0;31m                 \u001b[0mident\u001b[0m\u001b[0;34m,\u001b[0m \u001b[0mreply\u001b[0m \u001b[0;34m=\u001b[0m \u001b[0mself\u001b[0m\u001b[0;34m.\u001b[0m\u001b[0msession\u001b[0m\u001b[0;34m.\u001b[0m\u001b[0mrecv\u001b[0m\u001b[0;34m(\u001b[0m\u001b[0mself\u001b[0m\u001b[0;34m.\u001b[0m\u001b[0mstdin_socket\u001b[0m\u001b[0;34m,\u001b[0m \u001b[0;36m0\u001b[0m\u001b[0;34m)\u001b[0m\u001b[0;34m\u001b[0m\u001b[0;34m\u001b[0m\u001b[0m\n\u001b[0m\u001b[1;32m    730\u001b[0m             \u001b[0;32mexcept\u001b[0m \u001b[0mException\u001b[0m\u001b[0;34m:\u001b[0m\u001b[0;34m\u001b[0m\u001b[0;34m\u001b[0m\u001b[0m\n",
            "\u001b[0;32m/usr/local/lib/python3.6/dist-packages/jupyter_client/session.py\u001b[0m in \u001b[0;36mrecv\u001b[0;34m(self, socket, mode, content, copy)\u001b[0m\n\u001b[1;32m    802\u001b[0m         \u001b[0;32mtry\u001b[0m\u001b[0;34m:\u001b[0m\u001b[0;34m\u001b[0m\u001b[0;34m\u001b[0m\u001b[0m\n\u001b[0;32m--> 803\u001b[0;31m             \u001b[0mmsg_list\u001b[0m \u001b[0;34m=\u001b[0m \u001b[0msocket\u001b[0m\u001b[0;34m.\u001b[0m\u001b[0mrecv_multipart\u001b[0m\u001b[0;34m(\u001b[0m\u001b[0mmode\u001b[0m\u001b[0;34m,\u001b[0m \u001b[0mcopy\u001b[0m\u001b[0;34m=\u001b[0m\u001b[0mcopy\u001b[0m\u001b[0;34m)\u001b[0m\u001b[0;34m\u001b[0m\u001b[0;34m\u001b[0m\u001b[0m\n\u001b[0m\u001b[1;32m    804\u001b[0m         \u001b[0;32mexcept\u001b[0m \u001b[0mzmq\u001b[0m\u001b[0;34m.\u001b[0m\u001b[0mZMQError\u001b[0m \u001b[0;32mas\u001b[0m \u001b[0me\u001b[0m\u001b[0;34m:\u001b[0m\u001b[0;34m\u001b[0m\u001b[0;34m\u001b[0m\u001b[0m\n",
            "\u001b[0;32m/usr/local/lib/python3.6/dist-packages/zmq/sugar/socket.py\u001b[0m in \u001b[0;36mrecv_multipart\u001b[0;34m(self, flags, copy, track)\u001b[0m\n\u001b[1;32m    582\u001b[0m         \"\"\"\n\u001b[0;32m--> 583\u001b[0;31m         \u001b[0mparts\u001b[0m \u001b[0;34m=\u001b[0m \u001b[0;34m[\u001b[0m\u001b[0mself\u001b[0m\u001b[0;34m.\u001b[0m\u001b[0mrecv\u001b[0m\u001b[0;34m(\u001b[0m\u001b[0mflags\u001b[0m\u001b[0;34m,\u001b[0m \u001b[0mcopy\u001b[0m\u001b[0;34m=\u001b[0m\u001b[0mcopy\u001b[0m\u001b[0;34m,\u001b[0m \u001b[0mtrack\u001b[0m\u001b[0;34m=\u001b[0m\u001b[0mtrack\u001b[0m\u001b[0;34m)\u001b[0m\u001b[0;34m]\u001b[0m\u001b[0;34m\u001b[0m\u001b[0;34m\u001b[0m\u001b[0m\n\u001b[0m\u001b[1;32m    584\u001b[0m         \u001b[0;31m# have first part already, only loop while more to receive\u001b[0m\u001b[0;34m\u001b[0m\u001b[0;34m\u001b[0m\u001b[0;34m\u001b[0m\u001b[0m\n",
            "\u001b[0;32mzmq/backend/cython/socket.pyx\u001b[0m in \u001b[0;36mzmq.backend.cython.socket.Socket.recv\u001b[0;34m()\u001b[0m\n",
            "\u001b[0;32mzmq/backend/cython/socket.pyx\u001b[0m in \u001b[0;36mzmq.backend.cython.socket.Socket.recv\u001b[0;34m()\u001b[0m\n",
            "\u001b[0;32mzmq/backend/cython/socket.pyx\u001b[0m in \u001b[0;36mzmq.backend.cython.socket._recv_copy\u001b[0;34m()\u001b[0m\n",
            "\u001b[0;32m/usr/local/lib/python3.6/dist-packages/zmq/backend/cython/checkrc.pxd\u001b[0m in \u001b[0;36mzmq.backend.cython.checkrc._check_rc\u001b[0;34m()\u001b[0m\n",
            "\u001b[0;31mKeyboardInterrupt\u001b[0m: ",
            "\nDuring handling of the above exception, another exception occurred:\n",
            "\u001b[0;31mKeyboardInterrupt\u001b[0m                         Traceback (most recent call last)",
            "\u001b[0;32m<ipython-input-29-2f3a1d8ee4ff>\u001b[0m in \u001b[0;36m<module>\u001b[0;34m()\u001b[0m\n\u001b[1;32m     26\u001b[0m     \u001b[0mplt\u001b[0m\u001b[0;34m.\u001b[0m\u001b[0mshow\u001b[0m\u001b[0;34m(\u001b[0m\u001b[0;34m)\u001b[0m\u001b[0;34m\u001b[0m\u001b[0;34m\u001b[0m\u001b[0m\n\u001b[1;32m     27\u001b[0m     \u001b[0msleep\u001b[0m\u001b[0;34m(\u001b[0m\u001b[0;36m2\u001b[0m\u001b[0;34m)\u001b[0m\u001b[0;34m\u001b[0m\u001b[0;34m\u001b[0m\u001b[0m\n\u001b[0;32m---> 28\u001b[0;31m     \u001b[0minput\u001b[0m\u001b[0;34m(\u001b[0m\u001b[0;34m\"Next Image\"\u001b[0m\u001b[0;34m)\u001b[0m\u001b[0;34m\u001b[0m\u001b[0;34m\u001b[0m\u001b[0m\n\u001b[0m\u001b[1;32m     29\u001b[0m \u001b[0;34m\u001b[0m\u001b[0m\n\u001b[1;32m     30\u001b[0m \u001b[0;31m# print(img['file_name'])\u001b[0m\u001b[0;34m\u001b[0m\u001b[0;34m\u001b[0m\u001b[0;34m\u001b[0m\u001b[0m\n",
            "\u001b[0;32m/usr/local/lib/python3.6/dist-packages/ipykernel/kernelbase.py\u001b[0m in \u001b[0;36mraw_input\u001b[0;34m(self, prompt)\u001b[0m\n\u001b[1;32m    702\u001b[0m             \u001b[0mself\u001b[0m\u001b[0;34m.\u001b[0m\u001b[0m_parent_ident\u001b[0m\u001b[0;34m,\u001b[0m\u001b[0;34m\u001b[0m\u001b[0;34m\u001b[0m\u001b[0m\n\u001b[1;32m    703\u001b[0m             \u001b[0mself\u001b[0m\u001b[0;34m.\u001b[0m\u001b[0m_parent_header\u001b[0m\u001b[0;34m,\u001b[0m\u001b[0;34m\u001b[0m\u001b[0;34m\u001b[0m\u001b[0m\n\u001b[0;32m--> 704\u001b[0;31m             \u001b[0mpassword\u001b[0m\u001b[0;34m=\u001b[0m\u001b[0;32mFalse\u001b[0m\u001b[0;34m,\u001b[0m\u001b[0;34m\u001b[0m\u001b[0;34m\u001b[0m\u001b[0m\n\u001b[0m\u001b[1;32m    705\u001b[0m         )\n\u001b[1;32m    706\u001b[0m \u001b[0;34m\u001b[0m\u001b[0m\n",
            "\u001b[0;32m/usr/local/lib/python3.6/dist-packages/ipykernel/kernelbase.py\u001b[0m in \u001b[0;36m_input_request\u001b[0;34m(self, prompt, ident, parent, password)\u001b[0m\n\u001b[1;32m    732\u001b[0m             \u001b[0;32mexcept\u001b[0m \u001b[0mKeyboardInterrupt\u001b[0m\u001b[0;34m:\u001b[0m\u001b[0;34m\u001b[0m\u001b[0;34m\u001b[0m\u001b[0m\n\u001b[1;32m    733\u001b[0m                 \u001b[0;31m# re-raise KeyboardInterrupt, to truncate traceback\u001b[0m\u001b[0;34m\u001b[0m\u001b[0;34m\u001b[0m\u001b[0;34m\u001b[0m\u001b[0m\n\u001b[0;32m--> 734\u001b[0;31m                 \u001b[0;32mraise\u001b[0m \u001b[0mKeyboardInterrupt\u001b[0m\u001b[0;34m\u001b[0m\u001b[0;34m\u001b[0m\u001b[0m\n\u001b[0m\u001b[1;32m    735\u001b[0m             \u001b[0;32melse\u001b[0m\u001b[0;34m:\u001b[0m\u001b[0;34m\u001b[0m\u001b[0;34m\u001b[0m\u001b[0m\n\u001b[1;32m    736\u001b[0m                 \u001b[0;32mbreak\u001b[0m\u001b[0;34m\u001b[0m\u001b[0;34m\u001b[0m\u001b[0m\n",
            "\u001b[0;31mKeyboardInterrupt\u001b[0m: "
          ]
        }
      ]
    },
    {
      "cell_type": "code",
      "metadata": {
        "id": "ckSDFoMSXKK9",
        "colab": {
          "base_uri": "https://localhost:8080/"
        },
        "outputId": "e7dc578e-5604-4691-d786-5f9726be764d"
      },
      "source": [
        "import cv2\r\n",
        "img = cv2.imread(\"Data/UIT-ViIC/test_imgs/000000198054.jpg\")\r\n",
        "print(img)"
      ],
      "execution_count": null,
      "outputs": [
        {
          "output_type": "stream",
          "text": [
            "None\n"
          ],
          "name": "stdout"
        }
      ]
    },
    {
      "cell_type": "code",
      "metadata": {
        "colab": {
          "base_uri": "https://localhost:8080/"
        },
        "id": "uEG1lTTVoZDY",
        "outputId": "c9559955-a0b3-4d13-b86d-06a3bc5cf182"
      },
      "source": [
        "ls Data/UIT-ViIC/train_imgs/000000569723.jpg"
      ],
      "execution_count": null,
      "outputs": [
        {
          "output_type": "stream",
          "text": [
            "shell-init: error retrieving current directory: getcwd: cannot access parent directories: No such file or directory\n",
            "Data/UIT-ViIC/train_imgs/000000569723.jpg\n"
          ],
          "name": "stdout"
        }
      ]
    },
    {
      "cell_type": "code",
      "metadata": {
        "id": "XX02qWbYo2Zr"
      },
      "source": [
        "image_id = 566324\r\n",
        "image = None\r\n",
        "for img in train_data['images']:\r\n",
        "    if img['id'] == image_id:\r\n",
        "        image = img\r\n"
      ],
      "execution_count": null,
      "outputs": []
    },
    {
      "cell_type": "code",
      "metadata": {
        "colab": {
          "base_uri": "https://localhost:8080/"
        },
        "id": "S7og7LibpiKS",
        "outputId": "52fe0944-7c0d-49bd-84e7-52638f759fb0"
      },
      "source": [
        "for ann in train_data['annotations']:\r\n",
        "    if ann['image_id'] == 566324:\r\n",
        "        "
      ],
      "execution_count": null,
      "outputs": [
        {
          "output_type": "execute_result",
          "data": {
            "text/plain": [
              "{'coco_url': 'http://images.cocodataset.org/train2017/000000569723.jpg',\n",
              " 'date_captured': '2013-11-21 05:25:03',\n",
              " 'file_name': '000000569723.jpg',\n",
              " 'flickr_url': 'http://farm5.staticflickr.com/4118/4757256868_2e383db412_z.jpg',\n",
              " 'height': 640,\n",
              " 'id': 569723,\n",
              " 'license': 2,\n",
              " 'width': 426}"
            ]
          },
          "metadata": {
            "tags": []
          },
          "execution_count": 33
        }
      ]
    },
    {
      "cell_type": "code",
      "metadata": {
        "id": "5Ym-qY53om4P"
      },
      "source": [
        "\r\n",
        "import requests\r\n",
        "img = requests.get(image['coco_url']).content\r\n",
        "with open(\"Data/UIT-ViIC/train_imgs/000000569723.jpg\",'wb') as f:\r\n",
        "    f.write(img)\r\n",
        "\r\n"
      ],
      "execution_count": null,
      "outputs": []
    },
    {
      "cell_type": "code",
      "metadata": {
        "id": "AhZWV-F5XzUY"
      },
      "source": [
        ""
      ],
      "execution_count": null,
      "outputs": []
    }
  ]
}